{
 "cells": [
  {
   "cell_type": "markdown",
   "metadata": {},
   "source": [
    "# Text Mining"
   ]
  },
  {
   "cell_type": "code",
   "execution_count": 34,
   "metadata": {
    "scrolled": true
   },
   "outputs": [],
   "source": [
    "#открываем файлы, загрузка библиотек\n",
    "import glob, os\n",
    "import pandas as pd\n",
    "rotonda=[]\n",
    "for filepath in glob.iglob(r'C:\\Users\\Maria\\Desktop\\Media\\Rotonda/*.txt'):\n",
    "    file= open(filepath,'r' , encoding='utf-8')\n",
    "    file_opened = file.read()\n",
    "    rotonda.append(file_opened)"
   ]
  },
  {
   "cell_type": "code",
   "execution_count": 35,
   "metadata": {
    "scrolled": true
   },
   "outputs": [],
   "source": [
    "df=pd.DataFrame(rotonda)\n",
    "df=df.rename(columns={0: 'posts'})"
   ]
  },
  {
   "cell_type": "markdown",
   "metadata": {},
   "source": [
    "Лемматизация"
   ]
  },
  {
   "cell_type": "code",
   "execution_count": null,
   "metadata": {
    "scrolled": true
   },
   "outputs": [],
   "source": [
    "import pymystem3\n",
    "import re\n",
    "import time\n",
    "\n",
    "m = pymystem3.Mystem()\n",
    "# create a list where our lematized texts will be stored\n",
    "y_data = []\n",
    "\n",
    "start = time.time()\n",
    "num_rows, num_feature = df.shape\n",
    "\n",
    "# how we arrange cycle for lematization of all documents\n",
    "for i in range(num_rows):\n",
    "    # getting doc\n",
    "    text = str(df['posts'][i])\n",
    "    # remove quotes from text \n",
    "    s = text.replace('\"', '')\n",
    "    s = text.replace('=', '')\n",
    "    s = text.replace('|', '')\n",
    "    s1 = re.sub('[qwertyuiopasdfghjklzxcvbnm\\/!@#$1234567890#—ツ►๑۩۞۩•*”˜˜”*°°*`]', '', s)\n",
    "    # how we are doing lematization\n",
    "    s1 = m.lemmatize(s1)\n",
    "    s1 = ''.join(s1)\n",
    "    lemans=str(s1)\n",
    "\n",
    "    y_data.append(lemans)\n",
    "    print('обработка документа №: ', i)\n",
    "\n",
    "stop = time.time()    \n",
    "# results is set lematized documents\n",
    "print('time of execution (sec)', stop - start)"
   ]
  },
  {
   "cell_type": "code",
   "execution_count": null,
   "metadata": {
    "scrolled": false
   },
   "outputs": [],
   "source": [
    "#Лемматизированные данные\n",
    "y_data"
   ]
  },
  {
   "cell_type": "code",
   "execution_count": 39,
   "metadata": {
    "scrolled": true
   },
   "outputs": [],
   "source": [
    "#получение вектора из токенов\n",
    "from sklearn.feature_extraction.text import CountVectorizer\n",
    "# Convert a collection of text documents to a matrix of token counts\n",
    "vec = CountVectorizer()"
   ]
  },
  {
   "cell_type": "code",
   "execution_count": 40,
   "metadata": {
    "scrolled": true
   },
   "outputs": [
    {
     "name": "stdout",
     "output_type": "stream",
     "text": [
      "document number:  85 features number:  1923\n"
     ]
    }
   ],
   "source": [
    "#Векторизация данных\n",
    "x = vec.fit_transform(y_data)\n",
    "data = vec.fit_transform(y_data).toarray()\n",
    "\n",
    "num_docs, num_feature =x.shape\n",
    "print('document number: ', num_docs, 'features number: ', num_feature)"
   ]
  },
  {
   "cell_type": "code",
   "execution_count": null,
   "metadata": {
    "scrolled": false
   },
   "outputs": [],
   "source": [
    "myfich=vec.get_feature_names()\n",
    "\n",
    "print('Feature #2:', myfich[1])\n",
    "# attention feature numbering starts from zero\n",
    "print('The full list of features')\n",
    "print(myfich)\n",
    "\n",
    "myfich"
   ]
  },
  {
   "cell_type": "code",
   "execution_count": null,
   "metadata": {
    "scrolled": false
   },
   "outputs": [],
   "source": [
    "del myfich[:100]\n",
    "myfich"
   ]
  },
  {
   "cell_type": "code",
   "execution_count": 60,
   "metadata": {
    "scrolled": true
   },
   "outputs": [
    {
     "name": "stdout",
     "output_type": "stream",
     "text": [
      "[1 1 1 ... 3 4 1]\n"
     ]
    }
   ],
   "source": [
    "freq_data = data.sum(axis=0)\n",
    "print(freq_data)"
   ]
  },
  {
   "cell_type": "code",
   "execution_count": 61,
   "metadata": {
    "scrolled": true
   },
   "outputs": [],
   "source": [
    "#Сохраняем получившиеся слова, их частоту и длину в файл\n",
    "f = open('C:/Users/Maria/Desktop/freq.csv', 'w')\n",
    "for i, line in enumerate(myfich):\n",
    "     ss = myfich[i] + ';' + str(freq_data[i]) + ';' + str(len(myfich[i])) \n",
    "     f.write(ss + '\\n')\n",
    "\n",
    "f.close()"
   ]
  },
  {
   "cell_type": "code",
   "execution_count": 62,
   "metadata": {
    "scrolled": true
   },
   "outputs": [],
   "source": [
    "file_name='C:/Users/Maria/Desktop/text minin/my_stop.txt'\n",
    "words = pd.read_csv(file_name)\n",
    "my_stop = words['Stop_words'].values.tolist()\n",
    "\n",
    "from sklearn.feature_extraction.text import TfidfVectorizer\n",
    "vec = TfidfVectorizer(ngram_range=(1,1),stop_words=(my_stop))\n"
   ]
  },
  {
   "cell_type": "code",
   "execution_count": 63,
   "metadata": {
    "scrolled": true
   },
   "outputs": [
    {
     "name": "stdout",
     "output_type": "stream",
     "text": [
      "doc number:  85 feature number:  1877\n"
     ]
    }
   ],
   "source": [
    "# получаем матрицу частот слов в документах.\n",
    "import numpy as np\n",
    "x = vec.fit_transform(y_data)\n",
    "\n",
    "data = vec.fit_transform(y_data).toarray()\n",
    "\n",
    "num_docs, num_feature =x.shape\n",
    "print('doc number: ', num_docs, 'feature number: ', num_feature)\n",
    "\n",
    "# чтобы узнать количественное вхождение каждого слова:\n",
    "matrix_freq = np.asarray(data.sum(axis=0)).ravel()\n",
    "final_matrix = np.array([np.array(vec.get_feature_names()), matrix_freq])\n",
    "\n",
    "\n",
    "# сохраняем слово и его tf-idf\n",
    "f = open('C:/Users/Maria/Desktop/freq.csv', 'w' )\n",
    "for i in range(num_feature):\n",
    "    s = final_matrix[0][i]+ ';' + final_matrix[1][i]  + ';' + str(freq_data[i]) \n",
    "    f.write(\"%s\\n\" % s)\n",
    "    \n",
    "f.close()"
   ]
  },
  {
   "cell_type": "code",
   "execution_count": 64,
   "metadata": {
    "scrolled": true
   },
   "outputs": [
    {
     "name": "stdout",
     "output_type": "stream",
     "text": [
      "число слов после удаления стоп слов:  (1877,)\n",
      "[0.17462384 0.14613894 0.14042597 ... 0.37401247 0.49555866 0.14042597]\n"
     ]
    }
   ],
   "source": [
    "print('число слов после удаления стоп слов: ', matrix_freq.shape)\n",
    "print(matrix_freq)"
   ]
  },
  {
   "cell_type": "code",
   "execution_count": 82,
   "metadata": {
    "scrolled": true
   },
   "outputs": [
    {
     "data": {
      "text/html": [
       "<div>\n",
       "<style scoped>\n",
       "    .dataframe tbody tr th:only-of-type {\n",
       "        vertical-align: middle;\n",
       "    }\n",
       "\n",
       "    .dataframe tbody tr th {\n",
       "        vertical-align: top;\n",
       "    }\n",
       "\n",
       "    .dataframe thead th {\n",
       "        text-align: right;\n",
       "    }\n",
       "</style>\n",
       "<table border=\"1\" class=\"dataframe\">\n",
       "  <thead>\n",
       "    <tr style=\"text-align: right;\">\n",
       "      <th></th>\n",
       "      <th>names</th>\n",
       "      <th>tf_idf</th>\n",
       "      <th>freq</th>\n",
       "    </tr>\n",
       "  </thead>\n",
       "  <tbody>\n",
       "    <tr>\n",
       "      <th>133</th>\n",
       "      <td>аптека</td>\n",
       "      <td>0.168810</td>\n",
       "      <td>1</td>\n",
       "    </tr>\n",
       "    <tr>\n",
       "      <th>134</th>\n",
       "      <td>аргумент</td>\n",
       "      <td>0.129801</td>\n",
       "      <td>1</td>\n",
       "    </tr>\n",
       "    <tr>\n",
       "      <th>135</th>\n",
       "      <td>артиллерийский</td>\n",
       "      <td>0.098419</td>\n",
       "      <td>1</td>\n",
       "    </tr>\n",
       "    <tr>\n",
       "      <th>136</th>\n",
       "      <td>архитектура</td>\n",
       "      <td>0.115538</td>\n",
       "      <td>1</td>\n",
       "    </tr>\n",
       "    <tr>\n",
       "      <th>137</th>\n",
       "      <td>атрибут</td>\n",
       "      <td>0.236237</td>\n",
       "      <td>1</td>\n",
       "    </tr>\n",
       "  </tbody>\n",
       "</table>\n",
       "</div>"
      ],
      "text/plain": [
       "              names    tf_idf  freq\n",
       "133          аптека  0.168810     1\n",
       "134        аргумент  0.129801     1\n",
       "135  артиллерийский  0.098419     1\n",
       "136     архитектура  0.115538     1\n",
       "137         атрибут  0.236237     1"
      ]
     },
     "execution_count": 82,
     "metadata": {},
     "output_type": "execute_result"
    }
   ],
   "source": [
    "rotonda_freq= pd.read_csv('C:/Users/Maria/Desktop/freq.csv', encoding= \"ANSI\", sep=';')\n",
    "rotonda_freq= rotonda_freq.rename(columns={ '_cwsjwjhi' : 'names' , '0.17462383692244404' : 'tf_idf', '1' : 'freq'})\n",
    "rotonda_freq= rotonda_freq[133:]\n",
    "rotonda_freq.head()"
   ]
  },
  {
   "cell_type": "code",
   "execution_count": 83,
   "metadata": {
    "scrolled": true
   },
   "outputs": [
    {
     "data": {
      "text/html": [
       "<div>\n",
       "<style scoped>\n",
       "    .dataframe tbody tr th:only-of-type {\n",
       "        vertical-align: middle;\n",
       "    }\n",
       "\n",
       "    .dataframe tbody tr th {\n",
       "        vertical-align: top;\n",
       "    }\n",
       "\n",
       "    .dataframe thead th {\n",
       "        text-align: right;\n",
       "    }\n",
       "</style>\n",
       "<table border=\"1\" class=\"dataframe\">\n",
       "  <thead>\n",
       "    <tr style=\"text-align: right;\">\n",
       "      <th></th>\n",
       "      <th>tf_idf</th>\n",
       "      <th>freq</th>\n",
       "    </tr>\n",
       "  </thead>\n",
       "  <tbody>\n",
       "    <tr>\n",
       "      <th>count</th>\n",
       "      <td>1743.000000</td>\n",
       "      <td>1743.000000</td>\n",
       "    </tr>\n",
       "    <tr>\n",
       "      <th>mean</th>\n",
       "      <td>0.299769</td>\n",
       "      <td>3.195640</td>\n",
       "    </tr>\n",
       "    <tr>\n",
       "      <th>std</th>\n",
       "      <td>0.341477</td>\n",
       "      <td>7.318578</td>\n",
       "    </tr>\n",
       "    <tr>\n",
       "      <th>min</th>\n",
       "      <td>0.085375</td>\n",
       "      <td>1.000000</td>\n",
       "    </tr>\n",
       "    <tr>\n",
       "      <th>25%</th>\n",
       "      <td>0.133403</td>\n",
       "      <td>1.000000</td>\n",
       "    </tr>\n",
       "    <tr>\n",
       "      <th>50%</th>\n",
       "      <td>0.182310</td>\n",
       "      <td>1.000000</td>\n",
       "    </tr>\n",
       "    <tr>\n",
       "      <th>75%</th>\n",
       "      <td>0.323471</td>\n",
       "      <td>3.000000</td>\n",
       "    </tr>\n",
       "    <tr>\n",
       "      <th>max</th>\n",
       "      <td>4.576876</td>\n",
       "      <td>131.000000</td>\n",
       "    </tr>\n",
       "  </tbody>\n",
       "</table>\n",
       "</div>"
      ],
      "text/plain": [
       "            tf_idf         freq\n",
       "count  1743.000000  1743.000000\n",
       "mean      0.299769     3.195640\n",
       "std       0.341477     7.318578\n",
       "min       0.085375     1.000000\n",
       "25%       0.133403     1.000000\n",
       "50%       0.182310     1.000000\n",
       "75%       0.323471     3.000000\n",
       "max       4.576876   131.000000"
      ]
     },
     "execution_count": 83,
     "metadata": {},
     "output_type": "execute_result"
    }
   ],
   "source": [
    "rotonda_freq.describe()"
   ]
  },
  {
   "cell_type": "code",
   "execution_count": 68,
   "metadata": {
    "scrolled": true
   },
   "outputs": [],
   "source": [
    "rotonda_top= rotonda_freq[rotonda_freq.freq>3.2]"
   ]
  },
  {
   "cell_type": "code",
   "execution_count": 79,
   "metadata": {
    "scrolled": true
   },
   "outputs": [
    {
     "data": {
      "text/html": [
       "<div>\n",
       "<style scoped>\n",
       "    .dataframe tbody tr th:only-of-type {\n",
       "        vertical-align: middle;\n",
       "    }\n",
       "\n",
       "    .dataframe tbody tr th {\n",
       "        vertical-align: top;\n",
       "    }\n",
       "\n",
       "    .dataframe thead th {\n",
       "        text-align: right;\n",
       "    }\n",
       "</style>\n",
       "<table border=\"1\" class=\"dataframe\">\n",
       "  <thead>\n",
       "    <tr style=\"text-align: right;\">\n",
       "      <th></th>\n",
       "      <th>names</th>\n",
       "      <th>tf_idf</th>\n",
       "      <th>freq</th>\n",
       "    </tr>\n",
       "  </thead>\n",
       "  <tbody>\n",
       "    <tr>\n",
       "      <th>150</th>\n",
       "      <td>бегол</td>\n",
       "      <td>2.410587</td>\n",
       "      <td>29</td>\n",
       "    </tr>\n",
       "    <tr>\n",
       "      <th>356</th>\n",
       "      <td>город</td>\n",
       "      <td>2.380027</td>\n",
       "      <td>21</td>\n",
       "    </tr>\n",
       "    <tr>\n",
       "      <th>1609</th>\n",
       "      <td>ссылка</td>\n",
       "      <td>1.824402</td>\n",
       "      <td>10</td>\n",
       "    </tr>\n",
       "    <tr>\n",
       "      <th>352</th>\n",
       "      <td>год</td>\n",
       "      <td>1.502378</td>\n",
       "      <td>6</td>\n",
       "    </tr>\n",
       "    <tr>\n",
       "      <th>249</th>\n",
       "      <td>владимир</td>\n",
       "      <td>1.502076</td>\n",
       "      <td>4</td>\n",
       "    </tr>\n",
       "    <tr>\n",
       "      <th>1196</th>\n",
       "      <td>поправка</td>\n",
       "      <td>1.482109</td>\n",
       "      <td>7</td>\n",
       "    </tr>\n",
       "    <tr>\n",
       "      <th>1369</th>\n",
       "      <td>работа</td>\n",
       "      <td>1.361793</td>\n",
       "      <td>5</td>\n",
       "    </tr>\n",
       "    <tr>\n",
       "      <th>1480</th>\n",
       "      <td>сегодня</td>\n",
       "      <td>1.186272</td>\n",
       "      <td>31</td>\n",
       "    </tr>\n",
       "    <tr>\n",
       "      <th>460</th>\n",
       "      <td>единый</td>\n",
       "      <td>1.175163</td>\n",
       "      <td>14</td>\n",
       "    </tr>\n",
       "    <tr>\n",
       "      <th>149</th>\n",
       "      <td>беглов</td>\n",
       "      <td>1.064365</td>\n",
       "      <td>12</td>\n",
       "    </tr>\n",
       "    <tr>\n",
       "      <th>292</th>\n",
       "      <td>время</td>\n",
       "      <td>1.028806</td>\n",
       "      <td>12</td>\n",
       "    </tr>\n",
       "    <tr>\n",
       "      <th>1711</th>\n",
       "      <td>тысяча</td>\n",
       "      <td>1.011787</td>\n",
       "      <td>9</td>\n",
       "    </tr>\n",
       "    <tr>\n",
       "      <th>1306</th>\n",
       "      <td>проводить</td>\n",
       "      <td>0.995083</td>\n",
       "      <td>4</td>\n",
       "    </tr>\n",
       "    <tr>\n",
       "      <th>1522</th>\n",
       "      <td>служба</td>\n",
       "      <td>0.990377</td>\n",
       "      <td>7</td>\n",
       "    </tr>\n",
       "    <tr>\n",
       "      <th>351</th>\n",
       "      <td>говорить</td>\n",
       "      <td>0.928247</td>\n",
       "      <td>4</td>\n",
       "    </tr>\n",
       "    <tr>\n",
       "      <th>1072</th>\n",
       "      <td>перчатка</td>\n",
       "      <td>0.866739</td>\n",
       "      <td>5</td>\n",
       "    </tr>\n",
       "    <tr>\n",
       "      <th>241</th>\n",
       "      <td>вице</td>\n",
       "      <td>0.860495</td>\n",
       "      <td>6</td>\n",
       "    </tr>\n",
       "    <tr>\n",
       "      <th>695</th>\n",
       "      <td>кто</td>\n",
       "      <td>0.841163</td>\n",
       "      <td>6</td>\n",
       "    </tr>\n",
       "    <tr>\n",
       "      <th>170</th>\n",
       "      <td>больной</td>\n",
       "      <td>0.836630</td>\n",
       "      <td>12</td>\n",
       "    </tr>\n",
       "    <tr>\n",
       "      <th>732</th>\n",
       "      <td>магазин</td>\n",
       "      <td>0.798859</td>\n",
       "      <td>5</td>\n",
       "    </tr>\n",
       "    <tr>\n",
       "      <th>627</th>\n",
       "      <td>карантин</td>\n",
       "      <td>0.779307</td>\n",
       "      <td>5</td>\n",
       "    </tr>\n",
       "    <tr>\n",
       "      <th>1492</th>\n",
       "      <td>сергей</td>\n",
       "      <td>0.763874</td>\n",
       "      <td>4</td>\n",
       "    </tr>\n",
       "    <tr>\n",
       "      <th>894</th>\n",
       "      <td>несколько</td>\n",
       "      <td>0.732061</td>\n",
       "      <td>10</td>\n",
       "    </tr>\n",
       "    <tr>\n",
       "      <th>1178</th>\n",
       "      <td>получать</td>\n",
       "      <td>0.731412</td>\n",
       "      <td>5</td>\n",
       "    </tr>\n",
       "    <tr>\n",
       "      <th>1544</th>\n",
       "      <td>соблюдать</td>\n",
       "      <td>0.726934</td>\n",
       "      <td>10</td>\n",
       "    </tr>\n",
       "    <tr>\n",
       "      <th>1287</th>\n",
       "      <td>принимать</td>\n",
       "      <td>0.726595</td>\n",
       "      <td>5</td>\n",
       "    </tr>\n",
       "    <tr>\n",
       "      <th>1483</th>\n",
       "      <td>сейчас</td>\n",
       "      <td>0.711178</td>\n",
       "      <td>7</td>\n",
       "    </tr>\n",
       "    <tr>\n",
       "      <th>621</th>\n",
       "      <td>канал</td>\n",
       "      <td>0.676581</td>\n",
       "      <td>8</td>\n",
       "    </tr>\n",
       "    <tr>\n",
       "      <th>863</th>\n",
       "      <td>начинать</td>\n",
       "      <td>0.672841</td>\n",
       "      <td>4</td>\n",
       "    </tr>\n",
       "    <tr>\n",
       "      <th>1343</th>\n",
       "      <td>против</td>\n",
       "      <td>0.636381</td>\n",
       "      <td>13</td>\n",
       "    </tr>\n",
       "    <tr>\n",
       "      <th>1571</th>\n",
       "      <td>состояние</td>\n",
       "      <td>0.628139</td>\n",
       "      <td>7</td>\n",
       "    </tr>\n",
       "    <tr>\n",
       "      <th>577</th>\n",
       "      <td>именно</td>\n",
       "      <td>0.627965</td>\n",
       "      <td>8</td>\n",
       "    </tr>\n",
       "    <tr>\n",
       "      <th>573</th>\n",
       "      <td>иллюстрация</td>\n",
       "      <td>0.615537</td>\n",
       "      <td>49</td>\n",
       "    </tr>\n",
       "    <tr>\n",
       "      <th>1273</th>\n",
       "      <td>при</td>\n",
       "      <td>0.606881</td>\n",
       "      <td>4</td>\n",
       "    </tr>\n",
       "    <tr>\n",
       "      <th>239</th>\n",
       "      <td>вирус</td>\n",
       "      <td>0.598398</td>\n",
       "      <td>4</td>\n",
       "    </tr>\n",
       "    <tr>\n",
       "      <th>1197</th>\n",
       "      <td>попросить</td>\n",
       "      <td>0.591284</td>\n",
       "      <td>4</td>\n",
       "    </tr>\n",
       "    <tr>\n",
       "      <th>1662</th>\n",
       "      <td>тезис</td>\n",
       "      <td>0.569285</td>\n",
       "      <td>5</td>\n",
       "    </tr>\n",
       "    <tr>\n",
       "      <th>1742</th>\n",
       "      <td>условие</td>\n",
       "      <td>0.556961</td>\n",
       "      <td>5</td>\n",
       "    </tr>\n",
       "    <tr>\n",
       "      <th>1268</th>\n",
       "      <td>президентский</td>\n",
       "      <td>0.551014</td>\n",
       "      <td>5</td>\n",
       "    </tr>\n",
       "    <tr>\n",
       "      <th>1858</th>\n",
       "      <td>элла</td>\n",
       "      <td>0.540293</td>\n",
       "      <td>4</td>\n",
       "    </tr>\n",
       "    <tr>\n",
       "      <th>611</th>\n",
       "      <td>итог</td>\n",
       "      <td>0.537056</td>\n",
       "      <td>4</td>\n",
       "    </tr>\n",
       "    <tr>\n",
       "      <th>1545</th>\n",
       "      <td>собор</td>\n",
       "      <td>0.536424</td>\n",
       "      <td>7</td>\n",
       "    </tr>\n",
       "    <tr>\n",
       "      <th>1688</th>\n",
       "      <td>торговый</td>\n",
       "      <td>0.528354</td>\n",
       "      <td>6</td>\n",
       "    </tr>\n",
       "    <tr>\n",
       "      <th>903</th>\n",
       "      <td>ничто</td>\n",
       "      <td>0.526805</td>\n",
       "      <td>5</td>\n",
       "    </tr>\n",
       "    <tr>\n",
       "      <th>180</th>\n",
       "      <td>боткин</td>\n",
       "      <td>0.526097</td>\n",
       "      <td>5</td>\n",
       "    </tr>\n",
       "    <tr>\n",
       "      <th>837</th>\n",
       "      <td>наличие</td>\n",
       "      <td>0.521013</td>\n",
       "      <td>19</td>\n",
       "    </tr>\n",
       "    <tr>\n",
       "      <th>595</th>\n",
       "      <td>информация</td>\n",
       "      <td>0.505146</td>\n",
       "      <td>4</td>\n",
       "    </tr>\n",
       "    <tr>\n",
       "      <th>145</th>\n",
       "      <td>бар</td>\n",
       "      <td>0.504980</td>\n",
       "      <td>4</td>\n",
       "    </tr>\n",
       "    <tr>\n",
       "      <th>376</th>\n",
       "      <td>григорьев</td>\n",
       "      <td>0.504108</td>\n",
       "      <td>5</td>\n",
       "    </tr>\n",
       "    <tr>\n",
       "      <th>1454</th>\n",
       "      <td>салют</td>\n",
       "      <td>0.492096</td>\n",
       "      <td>16</td>\n",
       "    </tr>\n",
       "  </tbody>\n",
       "</table>\n",
       "</div>"
      ],
      "text/plain": [
       "              names    tf_idf  freq\n",
       "150           бегол  2.410587    29\n",
       "356           город  2.380027    21\n",
       "1609         ссылка  1.824402    10\n",
       "352             год  1.502378     6\n",
       "249        владимир  1.502076     4\n",
       "1196       поправка  1.482109     7\n",
       "1369         работа  1.361793     5\n",
       "1480        сегодня  1.186272    31\n",
       "460          единый  1.175163    14\n",
       "149          беглов  1.064365    12\n",
       "292           время  1.028806    12\n",
       "1711         тысяча  1.011787     9\n",
       "1306      проводить  0.995083     4\n",
       "1522         служба  0.990377     7\n",
       "351        говорить  0.928247     4\n",
       "1072       перчатка  0.866739     5\n",
       "241            вице  0.860495     6\n",
       "695             кто  0.841163     6\n",
       "170         больной  0.836630    12\n",
       "732         магазин  0.798859     5\n",
       "627        карантин  0.779307     5\n",
       "1492         сергей  0.763874     4\n",
       "894       несколько  0.732061    10\n",
       "1178       получать  0.731412     5\n",
       "1544      соблюдать  0.726934    10\n",
       "1287      принимать  0.726595     5\n",
       "1483         сейчас  0.711178     7\n",
       "621           канал  0.676581     8\n",
       "863        начинать  0.672841     4\n",
       "1343         против  0.636381    13\n",
       "1571      состояние  0.628139     7\n",
       "577          именно  0.627965     8\n",
       "573     иллюстрация  0.615537    49\n",
       "1273            при  0.606881     4\n",
       "239           вирус  0.598398     4\n",
       "1197      попросить  0.591284     4\n",
       "1662          тезис  0.569285     5\n",
       "1742        условие  0.556961     5\n",
       "1268  президентский  0.551014     5\n",
       "1858           элла  0.540293     4\n",
       "611            итог  0.537056     4\n",
       "1545          собор  0.536424     7\n",
       "1688       торговый  0.528354     6\n",
       "903           ничто  0.526805     5\n",
       "180          боткин  0.526097     5\n",
       "837         наличие  0.521013    19\n",
       "595      информация  0.505146     4\n",
       "145             бар  0.504980     4\n",
       "376       григорьев  0.504108     5\n",
       "1454          салют  0.492096    16"
      ]
     },
     "execution_count": 79,
     "metadata": {},
     "output_type": "execute_result"
    }
   ],
   "source": [
    "rotonda_top.sort_values(by=['tf_idf'], ascending=False).head(50)"
   ]
  },
  {
   "cell_type": "code",
   "execution_count": 86,
   "metadata": {
    "scrolled": true
   },
   "outputs": [
    {
     "data": {
      "text/html": [
       "<div>\n",
       "<style scoped>\n",
       "    .dataframe tbody tr th:only-of-type {\n",
       "        vertical-align: middle;\n",
       "    }\n",
       "\n",
       "    .dataframe tbody tr th {\n",
       "        vertical-align: top;\n",
       "    }\n",
       "\n",
       "    .dataframe thead th {\n",
       "        text-align: right;\n",
       "    }\n",
       "</style>\n",
       "<table border=\"1\" class=\"dataframe\">\n",
       "  <thead>\n",
       "    <tr style=\"text-align: right;\">\n",
       "      <th></th>\n",
       "      <th>names</th>\n",
       "      <th>tf_idf</th>\n",
       "    </tr>\n",
       "  </thead>\n",
       "  <tbody>\n",
       "    <tr>\n",
       "      <th>145</th>\n",
       "      <td>бар</td>\n",
       "      <td>0.504980</td>\n",
       "    </tr>\n",
       "    <tr>\n",
       "      <th>149</th>\n",
       "      <td>беглов</td>\n",
       "      <td>1.064365</td>\n",
       "    </tr>\n",
       "    <tr>\n",
       "      <th>150</th>\n",
       "      <td>бегол</td>\n",
       "      <td>2.410587</td>\n",
       "    </tr>\n",
       "    <tr>\n",
       "      <th>151</th>\n",
       "      <td>белковский</td>\n",
       "      <td>0.134649</td>\n",
       "    </tr>\n",
       "    <tr>\n",
       "      <th>161</th>\n",
       "      <td>блиц</td>\n",
       "      <td>0.144053</td>\n",
       "    </tr>\n",
       "    <tr>\n",
       "      <th>...</th>\n",
       "      <td>...</td>\n",
       "      <td>...</td>\n",
       "    </tr>\n",
       "    <tr>\n",
       "      <th>1858</th>\n",
       "      <td>элла</td>\n",
       "      <td>0.540293</td>\n",
       "    </tr>\n",
       "    <tr>\n",
       "      <th>1859</th>\n",
       "      <td>эмоциональный</td>\n",
       "      <td>0.138901</td>\n",
       "    </tr>\n",
       "    <tr>\n",
       "      <th>1862</th>\n",
       "      <td>эргашев</td>\n",
       "      <td>0.297985</td>\n",
       "    </tr>\n",
       "    <tr>\n",
       "      <th>1864</th>\n",
       "      <td>эфир</td>\n",
       "      <td>0.116891</td>\n",
       "    </tr>\n",
       "    <tr>\n",
       "      <th>1873</th>\n",
       "      <td>якобы</td>\n",
       "      <td>0.374012</td>\n",
       "    </tr>\n",
       "  </tbody>\n",
       "</table>\n",
       "<p>314 rows × 2 columns</p>\n",
       "</div>"
      ],
      "text/plain": [
       "              names    tf_idf\n",
       "145             бар  0.504980\n",
       "149          беглов  1.064365\n",
       "150           бегол  2.410587\n",
       "151      белковский  0.134649\n",
       "161            блиц  0.144053\n",
       "...             ...       ...\n",
       "1858           элла  0.540293\n",
       "1859  эмоциональный  0.138901\n",
       "1862        эргашев  0.297985\n",
       "1864           эфир  0.116891\n",
       "1873          якобы  0.374012\n",
       "\n",
       "[314 rows x 2 columns]"
      ]
     },
     "execution_count": 86,
     "metadata": {},
     "output_type": "execute_result"
    }
   ],
   "source": [
    "rotonda_bag= rotonda_top.drop(columns=['freq'])\n",
    "rotonda_bag"
   ]
  },
  {
   "cell_type": "code",
   "execution_count": null,
   "metadata": {
    "scrolled": true
   },
   "outputs": [],
   "source": [
    "%pip install WordCloud"
   ]
  },
  {
   "cell_type": "code",
   "execution_count": 113,
   "metadata": {
    "scrolled": true
   },
   "outputs": [
    {
     "data": {
      "image/png": "[encoded data removed]",
      "text/plain": [
       "<Figure size 432x288 with 1 Axes>"
      ]
     },
     "metadata": {
      "needs_background": "light"
     },
     "output_type": "display_data"
    }
   ],
   "source": [
    "from PIL import Image\n",
    "mask_rot=np.array(Image.open('C:/Users/Maria/Desktop/rotonda.png'))\n",
    "from wordcloud import WordCloud\n",
    "d = {}\n",
    "for a, x in rotonda_bag.values:\n",
    "    d[a] = x\n",
    "    \n",
    "    \n",
    "def grey_color_func(word, font_size, position, orientation, random_state=None,\n",
    "                    **kwargs):\n",
    "    return \"hsl(230,100%%, %d%%)\" % random.randint(20, 80)  #https://www.w3schools.com/colors/colors_hsl.asp\n",
    "\n",
    "import matplotlib.pyplot as plt\n",
    "from wordcloud import WordCloud\n",
    "\n",
    "wordcloud = WordCloud(background_color=\"white\", max_words=50,width=640, height=640, mask= mask_rot)\n",
    "wordcloud.generate_from_frequencies(frequencies=d)\n",
    "plt.figure()\n",
    "plt.imshow(wordcloud.recolor(color_func=grey_color_func, random_state=3),\n",
    "           interpolation=\"bilinear\")\n",
    "plt.axis(\"off\")\n",
    "plt.show()"
   ]
  },
  {
   "cell_type": "markdown",
   "metadata": {},
   "source": [
    "Topic Modeling"
   ]
  },
  {
   "cell_type": "code",
   "execution_count": 70,
   "metadata": {
    "scrolled": true
   },
   "outputs": [],
   "source": [
    "tf_vectorizer = vec\n",
    "tf = x"
   ]
  },
  {
   "cell_type": "code",
   "execution_count": 74,
   "metadata": {
    "scrolled": true
   },
   "outputs": [
    {
     "data": {
      "text/plain": [
       "LatentDirichletAllocation(batch_size=128, doc_topic_prior=None,\n",
       "                          evaluate_every=-1, learning_decay=0.7,\n",
       "                          learning_method='online', learning_offset=10.0,\n",
       "                          max_doc_update_iter=100, max_iter=20,\n",
       "                          mean_change_tol=0.001, n_components=10, n_jobs=None,\n",
       "                          perp_tol=0.1, random_state=2018,\n",
       "                          topic_word_prior=None, total_samples=1000000.0,\n",
       "                          verbose=0)"
      ]
     },
     "execution_count": 74,
     "metadata": {},
     "output_type": "execute_result"
    }
   ],
   "source": [
    "from sklearn.decomposition import LatentDirichletAllocation\n",
    "lda = LatentDirichletAllocation(n_components=10, max_iter=20,\n",
    "                                learning_method='online', random_state=2018)\n",
    "lda.fit(tf)"
   ]
  },
  {
   "cell_type": "code",
   "execution_count": 75,
   "metadata": {
    "scrolled": true
   },
   "outputs": [],
   "source": [
    "def print_top_words(model, feature_names, n_top_words):\n",
    "    for topic_idx, topic in enumerate(model.components_):\n",
    "        message = f\"Topic #{topic_idx}: \"\n",
    "        message += \" \".join([feature_names[i]\n",
    "                             for i in topic.argsort()[:-n_top_words - 1:-1]])\n",
    "        print(message)\n",
    "    print()"
   ]
  },
  {
   "cell_type": "code",
   "execution_count": 76,
   "metadata": {
    "scrolled": true
   },
   "outputs": [
    {
     "name": "stdout",
     "output_type": "stream",
     "text": [
      "Topic #0: храм фотография петербург продукт губернатор\n",
      "Topic #1: час уголовный ответственность быть работа\n",
      "Topic #2: маска ротонда петербургский комиссия петербуржец\n",
      "Topic #3: почетный гражданин выборы год звание\n",
      "Topic #4: покровский больница спбга факультет деньги\n",
      "Topic #5: проведение человек тик политика свыше\n",
      "Topic #6: путин поправка объяснять собор мигрант\n",
      "Topic #7: быть петербург губернатор александр бегол\n",
      "Topic #8: канал тысяча пневмония депутат работать\n",
      "Topic #9: день коронавирус быть заболевать фотография\n",
      "\n"
     ]
    }
   ],
   "source": [
    "tf_feature_names = tf_vectorizer.get_feature_names()\n",
    "print_top_words(lda, tf_feature_names, n_top_words=5)"
   ]
  },
  {
   "cell_type": "code",
   "execution_count": 77,
   "metadata": {
    "scrolled": true
   },
   "outputs": [
    {
     "data": {
      "text/plain": [
       "TfidfVectorizer(analyzer='word', binary=False, decode_error='strict',\n",
       "                dtype=<class 'numpy.float64'>, encoding='utf-8',\n",
       "                input='content', lowercase=True, max_df=1.0, max_features=None,\n",
       "                min_df=1, ngram_range=(1, 1), norm='l2', preprocessor=None,\n",
       "                smooth_idf=True,\n",
       "                stop_words=['rt', 'ад', 'ан', 'аш', 'бы', 'во', 'вы', 'до',\n",
       "                            'др', 'ее', 'ес', 'же', 'за', 'из', 'ик', 'их',\n",
       "                            'км', 'ли', 'мм', 'мы', 'на', 'не', 'ни', 'но',\n",
       "                            'об', 'он', 'ос', 'от', 'по', 'рф', ...],\n",
       "                strip_accents=None, sublinear_tf=False,\n",
       "                token_pattern='(?u)\\\\b\\\\w\\\\w+\\\\b', tokenizer=None, use_idf=True,\n",
       "                vocabulary=None)"
      ]
     },
     "execution_count": 77,
     "metadata": {},
     "output_type": "execute_result"
    }
   ],
   "source": [
    "tf_vectorizer"
   ]
  },
  {
   "cell_type": "markdown",
   "metadata": {},
   "source": [
    "# Часть 2"
   ]
  },
  {
   "cell_type": "code",
   "execution_count": null,
   "metadata": {
    "scrolled": true
   },
   "outputs": [
    {
     "name": "stdout",
     "output_type": "stream",
     "text": [
      "^C\n",
      "Note: you may need to restart the kernel to use updated packages.\n",
      "^C\n",
      "Note: you may need to restart the kernel to use updated packages.\n",
      "Requirement already satisfied: nltk in c:\\users\\maria\\anaconda3\\lib\\site-packages (3.4.5)\n",
      "Requirement already satisfied: six in c:\\users\\maria\\anaconda3\\lib\\site-packages (from nltk) (1.12.0)\n",
      "Note: you may need to restart the kernel to use updated packages.\n"
     ]
    }
   ],
   "source": [
    "%pip install gensim\n",
    "%pip install pandas\n",
    "%pip install nltk\n",
    "%pip install pyLDAvis"
   ]
  },
  {
   "cell_type": "code",
   "execution_count": 4,
   "metadata": {
    "scrolled": true
   },
   "outputs": [],
   "source": [
    "from nltk.corpus import stopwords\n",
    "import re, string\n",
    "from nltk.stem.snowball import SnowballStemmer\n",
    "\n",
    "russian_stopwords = stopwords.words(\"russian\")# собираем стоп слова\n",
    "regex = re.compile('[%s]' % re.escape(string.punctuation)) # компилим regexp выражение\n",
    "stemmer = SnowballStemmer(\"russian\") # инициализируем стэмминг\n",
    "\n",
    "def preprocessing(text):\n",
    "    text = regex.sub('', text) # удаляем пунктуацию\n",
    "    text = [token for token in text.split() if token not in russian_stopwords] # Удаляем стоп слова\n",
    "    text = [stemmer.stem(token) for token in text] # Выполняем стэмминг\n",
    "    text = [token for token in text if token] # Удаляем пустые токены\n",
    "    return ' '.join(text)"
   ]
  },
  {
   "cell_type": "code",
   "execution_count": 5,
   "metadata": {
    "scrolled": true
   },
   "outputs": [],
   "source": [
    "import glob, os\n",
    "import pandas as pd\n",
    "df=[]\n",
    "for filepath in glob.iglob(r'C:\\Users\\Maria\\Desktop\\Media\\Rotonda/*.txt'):\n",
    "    file= open(filepath,'r' , encoding='utf-8')\n",
    "    file_opened = file.read()\n",
    "    df.append(file_opened)\n",
    "\n",
    "\n",
    "df= pd.DataFrame(df)\n",
    "df=df.rename(columns={0: 'text'})\n",
    "df['text'] = df['text'].apply(lambda x: preprocessing(x))"
   ]
  },
  {
   "cell_type": "code",
   "execution_count": 6,
   "metadata": {
    "scrolled": true
   },
   "outputs": [],
   "source": [
    "text_clean= []\n",
    "for index, row in df.iterrows():\n",
    "        text_clean.append(row['text'].split())\n",
    "\n",
    "from gensim.models import Phrases\n",
    "bigram = Phrases(text_clean) # Создаем биграммы на основе корпуса\n",
    "trigram = Phrases(bigram[text_clean])# Создаем триграммы на основе корпуса\n",
    "\n",
    "for idx in range(len(text_clean)):\n",
    "    for token in bigram[text_clean[idx]]:\n",
    "        if '_' in token:\n",
    "            # Токен это би грамма, добавим в документ.\n",
    "            text_clean[idx].append(token)\n",
    "    for token in trigram[text_clean[idx]]:\n",
    "        if '_' in token:\n",
    "            # Токен это три грамма, добавим в документ.\n",
    "            text_clean[idx].append(token)"
   ]
  },
  {
   "cell_type": "code",
   "execution_count": 7,
   "metadata": {
    "scrolled": true
   },
   "outputs": [
    {
     "name": "stdout",
     "output_type": "stream",
     "text": [
      "Количество уникальных токенов: 2385\n",
      "Количество документов: 85\n"
     ]
    }
   ],
   "source": [
    "from gensim.corpora.dictionary import Dictionary\n",
    "from numpy import array\n",
    "dictionary = Dictionary(text_clean)\n",
    "#Создадим словарь и корпус для lda модели\n",
    "corpus = [dictionary.doc2bow(doc) for doc in text_clean]\n",
    "print('Количество уникальных токенов: %d' % len(dictionary))\n",
    "print('Количество документов: %d' % len(corpus))"
   ]
  },
  {
   "cell_type": "code",
   "execution_count": null,
   "metadata": {
    "scrolled": true
   },
   "outputs": [],
   "source": [
    "from gensim.models.ldamulticore import LdaMulticore\n",
    "model=LdaMulticore(corpus=myfich,id2word=dictionary, num_topics=2)\n",
    "model.show_topics()"
   ]
  },
  {
   "cell_type": "code",
   "execution_count": 9,
   "metadata": {
    "scrolled": true
   },
   "outputs": [
    {
     "name": "stderr",
     "output_type": "stream",
     "text": [
      "C:\\Users\\Maria\\Anaconda3\\lib\\site-packages\\past\\builtins\\misc.py:4: DeprecationWarning: Using or importing the ABCs from 'collections' instead of from 'collections.abc' is deprecated, and in 3.8 it will stop working\n",
      "  from collections import Mapping\n"
     ]
    }
   ],
   "source": [
    "import pyLDAvis.gensim\n",
    "import gensim\n",
    "pyLDAvis.enable_notebook()\n",
    "data = pyLDAvis.gensim.prepare(model, corpus, dictionary)"
   ]
  },
  {
   "cell_type": "code",
   "execution_count": 10,
   "metadata": {
    "scrolled": true
   },
   "outputs": [
    {
     "data": {
      "text/html": [
       "\n",
       "<link rel=\"stylesheet\" type=\"text/css\" href=\"https://cdn.rawgit.com/bmabey/pyLDAvis/files/ldavis.v1.0.0.css\">\n",
       "\n",
       "\n",
       "<div id=\"ldavis_el810830088571852241020633271\"></div>\n",
       "<script type=\"text/javascript\">\n",
       "\n",
       "var ldavis_el810830088571852241020633271_data = {\"mdsDat\": {\"x\": [0.011963959783315657, -0.011963959783315657], \"y\": [0.0, 0.0], \"topics\": [1, 2], \"cluster\": [1, 1], \"Freq\": [59.01499557495117, 40.985008239746094]}, \"tinfo\": {\"Term\": [\"\\u0430\\u043b\\u0435\\u043a\\u0441\\u0430\\u043d\\u0434\\u0440_\\u0431\\u0435\\u0433\\u043b\", \"\\u0430\\u043b\\u0435\\u043a\\u0441\\u0430\\u043d\\u0434\\u0440\", \"\\u2014\", \"\\u0433\\u0443\\u0431\\u0435\\u0440\\u043d\\u0430\\u0442\\u043e\\u0440_\\u043f\\u0435\\u0442\\u0435\\u0440\\u0431\\u0443\\u0440\\u0433\", \"\\u0433\\u043b\\u0430\\u0432_\\u043a\\u043e\\u043c\\u0438\\u0442\\u0435\\u0442\", \"\\u043c\\u0430\\u0441\\u043a\", \"\\u0441\\u0441\\u044b\\u043b\\u043a\", \"\\u0433\\u043b\\u0430\\u0432\", \"\\u043f\\u0440\\u0430\\u0432\\u0438\\u0442\\u0435\\u043b\\u044c\\u0441\\u0442\\u0432\", \"\\u0433\\u043e\\u0440\\u043e\\u0434\", \"\\u043c\\u0430\\u0441\\u043a_\\u043f\\u0435\\u0440\\u0447\\u0430\\u0442\\u043a\", \"\\u043a\\u043e\\u043c\\u0438\\u0442\\u0435\\u0442\", \"\\u0433\\u0443\\u0431\\u0435\\u0440\\u043d\\u0430\\u0442\\u043e\\u0440\", \"\\u043f\\u043e\\u043f\\u0440\\u0430\\u0432\\u043a_\\u043a\\u043e\\u043d\\u0441\\u0442\\u0438\\u0442\\u0443\\u0446\", \"\\u0431\\u0435\\u0433\\u043b\", \"\\u0441\\u0430\\u043c\", \"15\", \"\\u043d\\u0430\\u043b\\u043e\\u0433\", \"\\u043f\\u043b\\u0430\\u0442\", \"30\", \"\\u0437\\u0430\\u0441\\u0435\\u0434\\u0430\\u043d\", \"\\u0441\\u043e\\u0431\\u043b\\u044e\\u0434\\u0430\", \"\\u0437\\u0434\\u0430\\u043d\", \"\\u043f\\u043e\\u0434\\u0440\\u043e\\u0431\\u043d_\\u2014\", \"\\u0441\\u0430\\u043b\\u044e\\u0442\", \"\\u043f\\u0430\\u0440\\u043b\\u0430\\u043c\\u0435\\u043d\\u0442\", \"\\u043c\\u0435\\u043d\\u044f\", \"\\u0441\\u043b\\u0443\\u0445\", \"\\u0444\\u043e\\u0442\\u043e\\u0433\\u0440\\u0430\\u0444\", \"\\u043c\\u0435\\u0441\\u044f\\u0446\", \"\\u0441\\u0435\\u0440\\u0433\\u0435\", \"\\u0448\\u043d\\u0443\\u0440\\u043e\\u0432\", \"\\u043f\\u0440\\u043e\\u043f\\u0443\\u0441\\u043a\\u043d\", \"\\u0441\\u0442\\u0430\\u0442\", \"\\u0432\\u044b\\u0434\\u0432\\u0438\\u043d\\u0443\\u0442\", \"\\u0433\\u0440\\u0430\\u0436\\u0434\\u0430\", \"\\u043f\\u043e\\u043f\\u0440\\u0430\\u0432\\u043a_\\u043a\\u043e\\u043d\\u0441\\u0442\\u0438\\u0442\\u0443\\u0446\", \"\\u043f\\u0440\\u043e\\u0445\\u043e\\u0434\", \"\\u0440\\u0435\\u0437\\u043d\\u0438\\u043a\", \"28042020\", \"\\u043c\\u0430\", \"\\u0442\\u0435\\u0437\\u0438\\u0441\", \"\\u043c\\u0430\\u0442\\u0435\\u0440\\u0438\\u0430\\u043b\", \"\\u0441\\u043e\\u0433\\u043b\\u0430\\u0441\\u043d\", \"\\u0432\\u0432\\u0435\\u0441\\u0442\", \"httpssun940userapicomc206728v206728549ef46aTDZ9ws5OGO8jpg\", \"httpssun935userapicomc853620v853620549226c17BCMVwCe2ivUjpg\", \"36\", \"\\u043d\\u044b\\u043d\\u0435\\u0448\\u043d\", \"\\u043f\\u0435\\u0440\\u0435\\u0434\\u0432\\u0438\\u0436\\u0435\\u043d\", \"29\", \"\\u0441\\u0435\\u043a\\u0440\\u0435\\u0442\\u043d\", \"\\u0443\\u0442\\u0440\", \"\\u0430\\u0432\\u0442\\u043e\\u043c\\u043e\\u0431\", \"18042020\", \"\\u0441\\u043e\\u0432\\u0435\\u0449\\u0430\\u043d\", \"httpssun928userapicomc206728v206728549ef485Kv38HhuBQnQjpg\", \"httpssun196userapicom6pNmaLHqHa434XchegerBJplysRavka6cQ1XQhiy3hB46bgsjpg\", \"\\u0443\\u0447\\u0430\\u0441\\u0442\", \"\\u0440\\u0430\\u0437\\u043e\\u0441\\u043b\\u0430\", \"\\u043e\\u0444\\u0438\\u0446\\u0438\\u0430\\u043b\\u044c\\u043d\", \"\\u0441\\u043e\\u0431\\u0435\\u0441\\u0435\\u0434\\u043d\\u0438\\u043a\", \"1\", \"\\u0430\\u043f\\u0440\\u0435\\u043b\", \"\\u0444\\u043e\\u0442\\u043e\\u0433\\u0440\\u0430\\u0444\", \"\\u043f\\u0440\\u043e\\u043f\\u0443\\u0441\\u043a\", \"\\u0432_\\u043f\\u0435\\u0442\\u0435\\u0440\\u0431\\u0443\\u0440\\u0433\", \"\\u043f\\u043e\\u0447\\u0435\\u0442\\u043d\", \"18032020\", \"\\u0447\\u0430\\u0441\\u0442\", \"\\u043a\\u043e\\u043c\\u0438\\u0441\\u0441\", \"\\u043f\\u0440\\u0435\\u0434\\u043f\\u0440\\u0438\\u043d\\u0438\\u043c\\u0430\\u0442\\u0435\\u043b\", \"\\u043f\\u043e\\u043f\\u0440\\u0430\\u0432\\u043a\", \"\\u00ab\\u0444\\u043e\\u043d\\u0442\\u0430\\u043d\\u043a\\u0430\\u00bb\", \"\\u2800\", \"\\u0447\\u0438\\u0442\\u0430_\\u0441\\u0441\\u044b\\u043b\\u043a\", \"\\u0432\\u044b\\u0431\\u043e\\u0440\", \"\\u044d\\u0442\", \"\\u043f\\u0435\\u0442\\u0435\\u0440\\u0431\\u0443\\u0440\\u0433\", \"\\u043f\\u043e\\u043b\\u0438\\u0442\\u0438\\u043a\", \"\\u0432\", \"\\u043f\\u0435\\u0442\\u0435\\u0440\\u0431\\u0443\\u0440\\u0433\\u0441\\u043a\", \"coronavirus_\\u0444\\u043e\\u0442\\u043e\\u0433\\u0440\\u0430\\u0444\", \"\\u043f\\u043e\\u0434\\u0440\\u043e\\u0431\\u043d\", \"\\u043a\\u043e\\u0440\\u043e\\u043d\\u0430\\u0432\\u0438\\u0440\\u0443\\u0441\", \"\\u043f\\u0435\\u0442\\u0435\\u0440\\u0431\\u0443\\u0440\\u0433\\u0441\\u043a_\\u043f\\u0430\\u0440\\u043b\\u0430\\u043c\\u0435\\u043d\\u0442\", \"\\u2014\", \"\\u043a\\u043e\\u0442\\u043e\\u0440\", \"\\u043f\\u043e\\u0434\\u0440\\u043e\\u0431\\u043d_\\u2014\", \"\\u0432\\u043b\\u0430\\u0434\\u0438\\u043c\\u0438\\u0440_\\u043f\\u0443\\u0442\\u0438\\u043d\", \"\\u043d\\u043e\\u0432\", \"\\u00ab\\u0435\\u0434\\u0438\\u043d_\\u0440\\u043e\\u0441\\u0441\\u0438\\u0438\\u00bb\", \"\\u0440\\u0435\\u0436\", \"\\u0432\\u043b\\u0430\\u0434\\u0438\\u043c\\u0438\\u0440\", \"\\u0430\\u043b\\u0435\\u043a\\u0441\\u0430\\u043d\\u0434\\u0440_\\u0431\\u0435\\u0433\\u043b\\u043e\\u0432\", \"\\u0434\\u0435\\u043f\\u0443\\u0442\\u0430\\u0442\", \"\\u0433\\u0443\\u0431\\u0435\\u0440\\u043d\\u0430\\u0442\\u043e\\u0440\", \"\\u043f\\u0443\\u0442\\u0438\\u043d\", \"\\u0447\\u0435\\u043b\\u043e\\u0432\\u0435\\u043a\", \"\\u0430\\u043b\\u0435\\u043a\\u0441\\u0430\\u043d\\u0434\\u0440_\\u0431\\u0435\\u0433\\u043b\", \"\\u0430\\u043b\\u0435\\u043a\\u0441\\u0430\\u043d\\u0434\\u0440\", \"\\u0433\\u0443\\u0431\\u0435\\u0440\\u043d\\u0430\\u0442\\u043e\\u0440_\\u043f\\u0435\\u0442\\u0435\\u0440\\u0431\\u0443\\u0440\\u0433\", \"\\u0432\\u043b\\u0430\\u0441\\u0442\", \"\\u0431\\u0435\\u0433\\u043b\", \"\\u0433\\u043e\\u0440\\u043e\\u0434\", \"\\u0441\\u0441\\u044b\\u043b\\u043a\", \"\\u0432\\u044f\\u0447\\u0435\\u0441\\u043b\\u0430\\u0432_\\u043c\\u0430\\u043a\\u0430\\u0440\\u043e\\u0432\", \"\\u043d\\u0430\\u043b\\u043e\\u0433\", \"\\u043f\\u043b\\u0430\\u0442\", \"\\u0441\\u043e\\u0446\\u0438\\u0430\\u043b\\u044c\\u043d\", \"\\u043c\\u0438\\u043b\\u043b\\u0438\\u043e\\u043d\", \"\\u043c\\u0430\\u043b\", \"\\u043c\\u0435\\u043d\\u044f\", \"\\u0441\\u043b\\u0443\\u0445\", \"\\u043f\\u0440\\u043e\\u0446\\u0435\\u043d\\u0442\", \"\\u0434\\u043e\\u0445\\u043e\\u0434\", \"\\u043c\\u0435\\u0441\\u044f\\u0446\", \"\\u043a\\u0440\\u0435\\u0434\\u0438\\u0442\", \"\\u043f\\u044f\\u0442\", \"\\u0432\\u0435\\u0440\\u043d\\u0443\\u043b\", \"\\u0441\\u0430\\u043b\\u044e\\u0442\", \"\\u043f\\u043e\\u0434\\u0434\\u0435\\u0440\\u0436\\u0430\\u043d\", \"\\u043a\\u043e\\u043b\\u043e\\u043a\\u043e\\u043b\\u044c\\u0447\\u0438\\u043a\", \"\\u0444\\u0443\\u0442\\u0431\\u043e\\u043b\\u043a\", \"1307\", \"\\u0440\\u0430\\u0441\\u0441\\u043f\\u0440\\u0430\\u0448\\u0438\\u0432\\u0430\", \"\\ud83d\\udd14\\u0434\\u043b\\u044f\", \"\\u0434\\u0438\\u0441\\u0446\\u0438\\u043f\\u043b\\u0438\\u043d\", \"\\u0432\\u043e\\u0441\\u0441\\u0442\\u0430\\u043d\\u043e\\u0432\", \"\\u0438\\u0441\\u043f\\u043e\\u043b\\u044c\\u0437\", \"\\u043a\\u0442\\u043e\\u0442\", \"\\u0442\\u0438\\u0448\\u0438\\u043d\", \"17032020\", \"\\u0437\\u0432\\u0435\\u043d\", \"\\u0437\\u0432\\u043e\\u043d\\u043e\\u043a\", \"\\u044d\\u0440\\u0433\\u0430\\u0448\\u0435\\u0432\", \"\\u0444\\u0435\\u0439\\u0435\\u0440\\u0432\\u0435\\u0440\\u043a\", \"\\u043f\\u043e\\u043c\\u043e\\u0449\", \"\\u043c\\u0438\\u043d\\u0438\\u043c\\u0430\\u043b\\u044c\\u043d\", \"\\u0448\\u0435\\u0441\\u0442\", \"\\u0433\\u043b\\u0430\\u0432_\\u043a\\u043e\\u043c\\u0438\\u0442\\u0435\\u0442\", \"\\u0441\\u043e\\u0431\\u043b\\u044e\\u0434\\u0430\", \"\\u0437\\u0434\\u0430\\u043d\", \"\\u0441\\u0430\\u043c\", \"\\u043c\\u0430\\u0441\\u043a\", \"\\u043c\\u0435\\u0434\\u0438\\u0446\\u0438\\u043d\\u0441\\u043a\", \"\\u0430\\u043b\\u0435\\u043a\\u0441\\u0430\\u043d\\u0434\\u0440_\\u0431\\u0435\\u0433\\u043b\", \"\\u043f\\u0440\\u0430\\u0432\\u0438\\u0442\\u0435\\u043b\\u044c\\u0441\\u0442\\u0432\", \"\\u043c\\u0430\\u0441\\u043a_\\u043f\\u0435\\u0440\\u0447\\u0430\\u0442\\u043a\", \"\\u0437\\u0430\\u0441\\u0435\\u0434\\u0430\\u043d\", \"\\u0433\\u043b\\u0430\\u0432\", \"15\", \"\\u0430\\u043b\\u0435\\u043a\\u0441\\u0430\\u043d\\u0434\\u0440\", \"\\u0433\\u0443\\u0431\\u0435\\u0440\\u043d\\u0430\\u0442\\u043e\\u0440_\\u043f\\u0435\\u0442\\u0435\\u0440\\u0431\\u0443\\u0440\\u0433\", \"30\", \"\\u0441\\u0441\\u044b\\u043b\\u043a\", \"\\u2014\", \"\\u043a\\u043e\\u043c\\u0438\\u0442\\u0435\\u0442\", \"\\u0433\\u043e\\u0440\\u043e\\u0434\", \"\\u0433\\u0443\\u0431\\u0435\\u0440\\u043d\\u0430\\u0442\\u043e\\u0440\", \"\\u0431\\u0435\\u0433\\u043b\", \"\\u043f\\u043e\\u0434\\u0440\\u043e\\u0431\\u043d_\\u2014\", \"\\u2800\", \"\\u043a\\u043e\\u0442\\u043e\\u0440\", \"\\u043f\\u0430\\u0440\\u043b\\u0430\\u043c\\u0435\\u043d\\u0442\", \"\\u00ab\\u0435\\u0434\\u0438\\u043d_\\u0440\\u043e\\u0441\\u0441\\u0438\\u0438\\u00bb\", \"\\u043f\\u0435\\u0442\\u0435\\u0440\\u0431\\u0443\\u0440\\u0433\", \"\\u0434\\u0435\\u043f\\u0443\\u0442\\u0430\\u0442\", \"\\u0438\\u0441\\u0442\\u043e\\u0447\\u043d\\u0438\\u043a_\\u00ab\\u0440\\u043e\\u0442\\u043e\\u043d\\u0434\\u044b\\u00bb\", \"\\u0432\\u043b\\u0430\\u0434\\u0438\\u043c\\u0438\\u0440_\\u043f\\u0443\\u0442\\u0438\\u043d\", \"\\u0430\\u043b\\u0435\\u043a\\u0441\\u0430\\u043d\\u0434\\u0440_\\u0431\\u0435\\u0433\\u043b\\u043e\\u0432\", \"coronavirus_\\u0444\\u043e\\u0442\\u043e\\u0433\\u0440\\u0430\\u0444\", \"\\u043f\\u0435\\u0442\\u0435\\u0440\\u0431\\u0443\\u0440\\u0433\\u0441\\u043a\", \"\\u043a\\u043e\\u0440\\u043e\\u043d\\u0430\\u0432\\u0438\\u0440\\u0443\\u0441\", \"\\u0433\\u0443\\u0431\\u0435\\u0440\\u043d\\u0430\\u0442\\u043e\\u0440_\\u043f\\u0435\\u0442\\u0435\\u0440\\u0431\\u0443\\u0440\\u0433_\\u0430\\u043b\\u0435\\u043a\\u0441\\u0430\\u043d\\u0434\\u0440_\\u0431\\u0435\\u0433\\u043b\", \"\\u0432\\u044f\\u0447\\u0435\\u0441\\u043b\\u0430\\u0432_\\u043c\\u0430\\u043a\\u0430\\u0440\\u043e\\u0432\", \"\\u0444\\u043e\\u0442\\u043e\\u0433\\u0440\\u0430\\u0444\", \"\\u0432\", \"\\u044d\\u0442\", \"\\u043f\\u043e\\u0434\\u0440\\u043e\\u0431\\u043d\"], \"Freq\": [47.0, 34.0, 77.0, 30.0, 12.0, 11.0, 23.0, 13.0, 9.0, 21.0, 8.0, 15.0, 31.0, 19.0, 21.0, 5.0, 6.0, 2.0, 2.0, 5.0, 4.0, 4.0, 4.0, 43.0, 3.0, 15.0, 2.0, 2.0, 67.0, 2.0, 2.751586437225342, 2.7355475425720215, 2.012540340423584, 2.6739208698272705, 2.6614162921905518, 3.1754395961761475, 15.834817886352539, 3.15664005279541, 1.8867098093032837, 1.860153317451477, 5.569272041320801, 3.090238332748413, 1.8542155027389526, 1.8338052034378052, 1.2187119722366333, 1.2179434299468994, 1.2170686721801758, 1.2166999578475952, 1.2166496515274048, 1.2161784172058105, 1.2145661115646362, 1.821108102798462, 2.4273135662078857, 1.2131868600845337, 1.2129318714141846, 1.2124356031417847, 1.2121858596801758, 1.2119113206863403, 1.2112396955490112, 1.209928274154663, 4.789687633514404, 4.782042026519775, 4.177731037139893, 9.991883277893066, 49.695762634277344, 2.9728803634643555, 17.373764038085938, 3.522747755050659, 2.380495548248291, 4.070074081420898, 7.340821743011475, 1.79136323928833, 7.18166446685791, 1.789373517036438, 54.98348617553711, 8.091731071472168, 9.062090873718262, 17.434547424316406, 33.0410270690918, 5.006443500518799, 17.7333984375, 21.541126251220703, 22.792158126831055, 15.443272590637207, 20.03072166442871, 12.356423377990723, 42.97968292236328, 23.610980987548828, 25.629507064819336, 16.203731536865234, 8.58470630645752, 18.099170684814453, 5.986512660980225, 9.2710599899292, 14.623773574829102, 14.148231506347656, 17.148963928222656, 7.515238285064697, 8.060579299926758, 20.782018661499023, 16.455873489379883, 14.781525611877441, 9.773021697998047, 10.982462882995605, 10.888111114501953, 11.094613075256348, 9.341767311096191, 2.0221164226531982, 2.0097358226776123, 1.4457210302352905, 1.4456896781921387, 1.43891179561615, 1.9175939559936523, 1.9132307767868042, 1.4319231510162354, 1.4293274879455566, 1.8914554119110107, 1.3961186408996582, 1.8360352516174316, 1.374592900276184, 2.2795138359069824, 0.9064039587974548, 0.9045761227607727, 1.3563575744628906, 0.9036950469017029, 0.9025453329086304, 0.902083158493042, 0.9020130038261414, 0.9018447399139404, 0.9010809659957886, 0.8999984264373779, 0.8994699716567993, 0.8993964791297913, 0.8969064354896545, 0.8957123160362244, 0.895283579826355, 1.7902487516403198, 1.7891597747802734, 1.3425874710083008, 1.3410546779632568, 8.132437705993652, 2.6292977333068848, 2.628782272338867, 3.471519947052002, 7.069723129272461, 1.7560839653015137, 26.79517364501953, 5.761881351470947, 5.333340644836426, 2.967845916748047, 7.571731090545654, 3.740757465362549, 17.758066177368164, 15.941242218017578, 3.3144891262054443, 11.949851036071777, 34.737125396728516, 8.111739158630371, 10.877397537231445, 14.785304069519043, 10.193897247314453, 18.252559661865234, 30.664684295654297, 16.08929443359375, 7.462625980377197, 12.845973014831543, 18.850797653198242, 10.278088569641113, 7.226931571960449, 10.582321166992188, 9.924554824829102, 13.017988204956055, 12.114165306091309, 11.400970458984375, 5.270416736602783, 7.125811576843262, 17.43866729736328, 9.439382553100586, 8.430631637573242, 8.083849906921387], \"Total\": [47.0, 34.0, 77.0, 30.0, 12.0, 11.0, 23.0, 13.0, 9.0, 21.0, 8.0, 15.0, 31.0, 19.0, 21.0, 5.0, 6.0, 2.0, 2.0, 5.0, 4.0, 4.0, 4.0, 43.0, 3.0, 15.0, 2.0, 2.0, 67.0, 2.0, 3.147981882095337, 3.143904209136963, 2.348045825958252, 3.128425359725952, 3.125192165374756, 3.868436336517334, 19.330659866333008, 3.8631985187530518, 2.3165605068206787, 2.309732437133789, 6.926368713378906, 3.8467330932617188, 2.308196544647217, 2.3030385971069336, 1.5345797538757324, 1.5343914031982422, 1.534170389175415, 1.5340498685836792, 1.5340830087661743, 1.5338573455810547, 1.5335557460784912, 2.2998905181884766, 3.066286325454712, 1.5331820249557495, 1.5330803394317627, 1.5329928398132324, 1.5328270196914673, 1.5328571796417236, 1.5326368808746338, 1.532381296157837, 6.115955352783203, 6.114144802093506, 5.347870826721191, 12.948897361755371, 67.13442993164062, 3.817411422729492, 23.398473739624023, 4.569395065307617, 3.054497003555298, 5.321075916290283, 9.826995849609375, 2.2925291061401367, 9.78677749633789, 2.291888952255249, 85.6481704711914, 11.243671417236328, 12.715251922607422, 25.86517906188965, 51.891822814941406, 6.784324645996094, 27.172780990600586, 33.65529251098633, 35.81014633178711, 23.527122497558594, 31.431692123413086, 18.453449249267578, 77.71681213378906, 39.70027542114258, 43.88206481933594, 26.786052703857422, 12.593709945678711, 30.945144653320312, 8.258567810058594, 13.994415283203125, 24.548328399658203, 24.426319122314453, 31.934268951416016, 11.098812103271484, 12.463096618652344, 47.57719421386719, 34.21393966674805, 30.722766876220703, 16.574771881103516, 21.176361083984375, 21.7655086517334, 23.044464111328125, 16.467578887939453, 2.6009092330932617, 2.6047937870025635, 1.9745571613311768, 1.9745426177978516, 1.9767206907272339, 2.636289119720459, 2.6377203464508057, 1.9791865348815918, 1.9800713062286377, 2.644503116607666, 1.9909472465515137, 2.663203001022339, 1.9984620809555054, 3.3342485427856445, 1.3358595371246338, 1.3364189863204956, 2.004672050476074, 1.336768388748169, 1.3370907306671143, 1.3373137712478638, 1.3372471332550049, 1.337364673614502, 1.3375051021575928, 1.3379476070404053, 1.338099718093872, 1.3381319046020508, 1.3389109373092651, 1.339458703994751, 1.3394551277160645, 2.678757429122925, 2.6789450645446777, 2.009063959121704, 2.009852170944214, 12.849166870117188, 4.0359578132629395, 4.037491321563721, 5.393779754638672, 11.56299877166748, 2.690371513366699, 47.57719421386719, 9.54510498046875, 8.867822647094727, 4.742738723754883, 13.036163330078125, 6.123622894287109, 34.21393966674805, 30.722766876220703, 5.446349143981934, 23.044464111328125, 77.71681213378906, 15.314275741577148, 21.7655086517334, 31.934268951416016, 21.176361083984375, 43.88206481933594, 85.6481704711914, 39.70027542114258, 15.532804489135742, 30.945144653320312, 51.891822814941406, 24.426319122314453, 15.614203453063965, 26.786052703857422, 24.548328399658203, 35.81014633178711, 33.65529251098633, 31.431692123413086, 10.530328750610352, 16.467578887939453, 67.13442993164062, 27.172780990600586, 25.86517906188965, 23.527122497558594], \"Category\": [\"Default\", \"Default\", \"Default\", \"Default\", \"Default\", \"Default\", \"Default\", \"Default\", \"Default\", \"Default\", \"Default\", \"Default\", \"Default\", \"Default\", \"Default\", \"Default\", \"Default\", \"Default\", \"Default\", \"Default\", \"Default\", \"Default\", \"Default\", \"Default\", \"Default\", \"Default\", \"Default\", \"Default\", \"Default\", \"Default\", \"Topic1\", \"Topic1\", \"Topic1\", \"Topic1\", \"Topic1\", \"Topic1\", \"Topic1\", \"Topic1\", \"Topic1\", \"Topic1\", \"Topic1\", \"Topic1\", \"Topic1\", \"Topic1\", \"Topic1\", \"Topic1\", \"Topic1\", \"Topic1\", \"Topic1\", \"Topic1\", \"Topic1\", \"Topic1\", \"Topic1\", \"Topic1\", \"Topic1\", \"Topic1\", \"Topic1\", \"Topic1\", \"Topic1\", \"Topic1\", \"Topic1\", \"Topic1\", \"Topic1\", \"Topic1\", \"Topic1\", \"Topic1\", \"Topic1\", \"Topic1\", \"Topic1\", \"Topic1\", \"Topic1\", \"Topic1\", \"Topic1\", \"Topic1\", \"Topic1\", \"Topic1\", \"Topic1\", \"Topic1\", \"Topic1\", \"Topic1\", \"Topic1\", \"Topic1\", \"Topic1\", \"Topic1\", \"Topic1\", \"Topic1\", \"Topic1\", \"Topic1\", \"Topic1\", \"Topic1\", \"Topic1\", \"Topic1\", \"Topic1\", \"Topic1\", \"Topic1\", \"Topic1\", \"Topic1\", \"Topic1\", \"Topic1\", \"Topic1\", \"Topic1\", \"Topic1\", \"Topic1\", \"Topic1\", \"Topic1\", \"Topic1\", \"Topic1\", \"Topic2\", \"Topic2\", \"Topic2\", \"Topic2\", \"Topic2\", \"Topic2\", \"Topic2\", \"Topic2\", \"Topic2\", \"Topic2\", \"Topic2\", \"Topic2\", \"Topic2\", \"Topic2\", \"Topic2\", \"Topic2\", \"Topic2\", \"Topic2\", \"Topic2\", \"Topic2\", \"Topic2\", \"Topic2\", \"Topic2\", \"Topic2\", \"Topic2\", \"Topic2\", \"Topic2\", \"Topic2\", \"Topic2\", \"Topic2\", \"Topic2\", \"Topic2\", \"Topic2\", \"Topic2\", \"Topic2\", \"Topic2\", \"Topic2\", \"Topic2\", \"Topic2\", \"Topic2\", \"Topic2\", \"Topic2\", \"Topic2\", \"Topic2\", \"Topic2\", \"Topic2\", \"Topic2\", \"Topic2\", \"Topic2\", \"Topic2\", \"Topic2\", \"Topic2\", \"Topic2\", \"Topic2\", \"Topic2\", \"Topic2\", \"Topic2\", \"Topic2\", \"Topic2\", \"Topic2\", \"Topic2\", \"Topic2\", \"Topic2\", \"Topic2\", \"Topic2\", \"Topic2\", \"Topic2\", \"Topic2\", \"Topic2\", \"Topic2\", \"Topic2\", \"Topic2\", \"Topic2\"], \"logprob\": [30.0, 29.0, 28.0, 27.0, 26.0, 25.0, 24.0, 23.0, 22.0, 21.0, 20.0, 19.0, 18.0, 17.0, 16.0, 15.0, 14.0, 13.0, 12.0, 11.0, 10.0, 9.0, 8.0, 7.0, 6.0, 5.0, 4.0, 3.0, 2.0, 1.0, -7.186299800872803, -7.1921000480651855, -7.499100208282471, -7.214900016784668, -7.219600200653076, -7.043000221252441, -5.436200141906738, -7.048900127410889, -7.563600063323975, -7.5777997970581055, -6.481200218200684, -7.070199966430664, -7.580999851226807, -7.592100143432617, -8.000699996948242, -8.001299858093262, -8.001999855041504, -8.002300262451172, -8.002400398254395, -8.002699851989746, -8.00409984588623, -7.598999977111816, -7.311699867248535, -8.005200386047363, -8.005399703979492, -8.005800247192383, -8.005999565124512, -8.00629997253418, -8.006799697875977, -8.00790023803711, -6.631999969482422, -6.633600234985352, -6.768700122833252, -5.896699905395508, -4.292500019073486, -7.10890007019043, -5.343500137329102, -6.939199924468994, -7.331099987030029, -6.7947998046875, -6.204999923706055, -7.615499973297119, -6.226900100708008, -7.616600036621094, -4.191400051116943, -6.107600212097168, -5.9944000244140625, -5.340000152587891, -4.700699806213379, -6.587699890136719, -5.322999954223633, -5.128499984741211, -5.072000026702881, -5.461299896240234, -5.201200008392334, -5.684299945831299, -4.437699794769287, -5.0366997718811035, -4.954699993133545, -5.4131999015808105, -6.048500061035156, -5.302599906921387, -6.408899784088135, -5.97160005569458, -5.5157999992370605, -5.548900127410889, -5.356500148773193, -6.18149995803833, -6.111499786376953, -5.164400100708008, -5.397799968719482, -5.505099773406982, -5.918799877166748, -5.802199840545654, -5.810800075531006, -5.791999816894531, -5.964000225067139, -7.129700183868408, -7.135900020599365, -7.4653000831604, -7.4653000831604, -7.46999979019165, -7.182799816131592, -7.185100078582764, -7.474800109863281, -7.4766998291015625, -7.196499824523926, -7.500199794769287, -7.22629976272583, -7.515699863433838, -7.009900093078613, -7.93209981918335, -7.934199810028076, -7.529099941253662, -7.935100078582764, -7.936399936676025, -7.9369001388549805, -7.936999797821045, -7.93720006942749, -7.938000202178955, -7.939199924468994, -7.939799785614014, -7.939899921417236, -7.942699909210205, -7.943999767303467, -7.944499969482422, -7.251500129699707, -7.252099990844727, -7.539299964904785, -7.54040002822876, -5.73799991607666, -6.867199897766113, -6.867300033569336, -6.589300155639648, -5.877999782562256, -7.2708001136779785, -4.545599937438965, -6.082600116729736, -6.159900188446045, -6.745999813079834, -5.8094000816345215, -6.514599800109863, -4.956999778747559, -5.065000057220459, -6.6356000900268555, -5.353099822998047, -4.286099910736084, -5.740600109100342, -5.447199821472168, -5.140200138092041, -5.5121002197265625, -4.929599761962891, -4.410799980163574, -5.055699825286865, -5.823999881744385, -5.280799865722656, -4.897299766540527, -5.503900051116943, -5.856100082397461, -5.474699974060059, -5.538899898529053, -5.267499923706055, -5.3394999504089355, -5.400199890136719, -6.171800136566162, -5.870100021362305, -4.975200176239014, -5.589000225067139, -5.702000141143799, -5.74399995803833], \"loglift\": [30.0, 29.0, 28.0, 27.0, 26.0, 25.0, 24.0, 23.0, 22.0, 21.0, 20.0, 19.0, 18.0, 17.0, 16.0, 15.0, 14.0, 13.0, 12.0, 11.0, 10.0, 9.0, 8.0, 7.0, 6.0, 5.0, 4.0, 3.0, 2.0, 1.0, 0.3928000032901764, 0.3882000148296356, 0.373199999332428, 0.37040001153945923, 0.3666999936103821, 0.33000001311302185, 0.3278999924659729, 0.3253999948501587, 0.3221000134944916, 0.3109000027179718, 0.3093000054359436, 0.3084000051021576, 0.3084000051021576, 0.2994999885559082, 0.2969000041484833, 0.2964000105857849, 0.29580000042915344, 0.2955999970436096, 0.2955000102519989, 0.2953000068664551, 0.29420000314712524, 0.2939999997615814, 0.2937000095844269, 0.29330000281333923, 0.2930999994277954, 0.29280000925064087, 0.29269999265670776, 0.2924000024795532, 0.2919999957084656, 0.29109999537467957, 0.28290000557899475, 0.2815999984741211, 0.28040000796318054, 0.26809999346733093, 0.22660000622272491, 0.27730000019073486, 0.2296999990940094, 0.2671999931335449, 0.27810001373291016, 0.25940001010894775, 0.23569999635219574, 0.2806999981403351, 0.21789999306201935, 0.2799000144004822, 0.08420000225305557, 0.19840000569820404, 0.18870000541210175, 0.13289999961853027, 0.07599999755620956, 0.22349999845027924, 0.1005999967455864, 0.0812000036239624, 0.07559999823570251, 0.10639999806880951, 0.07680000364780426, 0.12630000710487366, -0.06499999761581421, 0.007699999958276749, -0.010400000028312206, 0.024700000882148743, 0.14419999718666077, -0.008999999612569809, 0.20559999346733093, 0.11559999734163284, 0.009399999864399433, -0.018699999898672104, -0.09440000355243683, 0.13750000298023224, 0.09160000085830688, -0.30090001225471497, -0.2046000063419342, -0.20419999957084656, -0.0008999999845400453, -0.12919999659061432, -0.16529999673366547, -0.20360000431537628, -0.039500001817941666, 0.6402000188827515, 0.6326000094413757, 0.5802000164985657, 0.5802000164985657, 0.574400007724762, 0.5737000107765198, 0.5708000063896179, 0.5683000087738037, 0.5659999847412109, 0.5568000078201294, 0.5370000004768372, 0.5199999809265137, 0.5177000164985657, 0.5116999745368958, 0.5041000247001648, 0.5016999840736389, 0.5012999773025513, 0.5004000067710876, 0.49889999628067017, 0.4982999861240387, 0.498199999332428, 0.49790000915527344, 0.4970000088214874, 0.49549999833106995, 0.49480000138282776, 0.49470001459121704, 0.49129998683929443, 0.4896000027656555, 0.48910000920295715, 0.48899999260902405, 0.48829999566078186, 0.48890000581741333, 0.48739999532699585, 0.4345000088214874, 0.4634000062942505, 0.4629000127315521, 0.4512999951839447, 0.4000000059604645, 0.46540001034736633, 0.31779998540878296, 0.3871999979019165, 0.38350000977516174, 0.42320001125335693, 0.34869998693466187, 0.39910000562667847, 0.2362000048160553, 0.23589999973773956, 0.3953000009059906, 0.2353000044822693, 0.08669999986886978, 0.2565000057220459, 0.19830000400543213, 0.12189999967813492, 0.16089999675750732, 0.014800000004470348, -0.13519999384880066, -0.01119999960064888, 0.15889999270439148, 0.012799999676644802, -0.12060000002384186, 0.02630000002682209, 0.12160000205039978, -0.03669999912381172, -0.013700000010430813, -0.11990000307559967, -0.1298000067472458, -0.12219999730587006, 0.19979999959468842, 0.05429999902844429, -0.4560000002384186, -0.16539999842643738, -0.22910000383853912, -0.17630000412464142]}, \"token.table\": {\"Topic\": [1, 2, 2, 1, 2, 2, 1, 2, 1, 1, 1, 1, 2, 1, 1, 2, 1, 1, 1, 1, 1, 2, 1, 2, 1, 1, 2, 1, 2, 1, 2, 1, 2, 1, 2, 1, 2, 1, 2, 1, 1, 2, 1, 2, 1, 2, 1, 2, 2, 1, 2, 1, 1, 2, 1, 2, 1, 2, 1, 2, 1, 2, 1, 2, 1, 2, 1, 2, 1, 2, 2, 1, 2, 1, 2, 2, 2, 1, 2, 2, 1, 2, 2, 1, 2, 1, 2, 1, 2, 1, 2, 1, 2, 2, 1, 2, 1, 2, 1, 2, 1, 2, 1, 1, 2, 1, 2, 1, 2, 1, 2, 1, 2, 1, 2, 1, 2, 1, 1, 2, 1, 2, 1, 1, 2, 1, 2, 1, 2, 1, 2, 2, 1, 2, 1, 2, 1, 2, 1, 2, 1, 2, 1, 2, 1, 2, 1, 2, 1, 2, 1, 2, 1, 1, 2, 1, 2, 1, 2, 1, 2, 1, 2, 1, 2, 1, 1, 2, 1, 2, 1, 1, 1, 2, 1, 2, 1, 2, 1, 1, 1, 2, 1, 2, 1, 1, 2, 2, 1, 2, 1, 1, 2, 1, 2, 1, 2, 1, 2, 1, 2, 1, 2, 1, 2, 1, 2, 1, 2, 1, 2, 1, 2, 2], \"Freq\": [0.7479612231254578, 0.18699030578136444, 0.7480727434158325, 0.32660403847694397, 0.6532080769538879, 0.7473104596138, 0.6547722816467285, 0.32738614082336426, 0.6522815227508545, 0.8659011721611023, 0.6520793437957764, 0.3672184646129608, 0.55082768201828, 0.6518692970275879, 0.6422760486602783, 0.36302560567855835, 0.6523764729499817, 0.6523893475532532, 0.6518180966377258, 0.6517242193222046, 0.5816744565963745, 0.420098215341568, 0.8726426362991333, 0.43632131814956665, 0.6522382497787476, 0.46764564514160156, 0.5261013507843018, 0.44138795137405396, 0.5674988031387329, 0.6110395789146423, 0.4073597192764282, 0.7722665071487427, 0.23167996108531952, 0.5194471478462219, 0.4722246527671814, 0.6624276041984558, 0.3312138020992279, 0.726543128490448, 0.25642699003219604, 0.651644229888916, 0.5003847479820251, 0.5003847479820251, 0.6431136727333069, 0.35728538036346436, 0.5973258018493652, 0.4106614887714386, 0.6033265590667725, 0.4223285913467407, 0.7477391958236694, 0.7078113555908203, 0.31458282470703125, 0.9599409699440002, 0.5465283989906311, 0.4250776767730713, 0.38354843854904175, 0.6136775016784668, 0.38913029432296753, 0.622608482837677, 0.5053867697715759, 0.5053867697715759, 0.7755071520805359, 0.25850239396095276, 0.5323435068130493, 0.46971485018730164, 0.48823726177215576, 0.5207864046096802, 0.47481897473335266, 0.47481897473335266, 0.5731522440910339, 0.4093944728374481, 0.7478049397468567, 0.5050323009490967, 0.5050323009490967, 0.4216972887516022, 0.6325458884239197, 0.7468756437301636, 0.7465702295303345, 0.24767854809761047, 0.7430356740951538, 0.7476606965065002, 0.5123540163040161, 0.4483097791671753, 0.7482683062553406, 0.7123234868049622, 0.2035209983587265, 0.4570898413658142, 0.5223883986473083, 0.6363004446029663, 0.34996524453163147, 0.6045297980308533, 0.40301987528800964, 0.5022734999656677, 0.5022734999656677, 0.7474133968353271, 0.8662548065185547, 0.14437580108642578, 0.5058883428573608, 0.5058883428573608, 0.3459310233592987, 0.6053792834281921, 0.4510689973831177, 0.5638362765312195, 0.8664773106575012, 0.371695876121521, 0.743391752243042, 0.37932106852531433, 0.7586421370506287, 0.3781428635120392, 0.7562857270240784, 0.5064464211463928, 0.5064464211463928, 0.49774423241615295, 0.49774423241615295, 0.38448092341423035, 0.7689618468284607, 0.7146424651145935, 0.31761887669563293, 0.6518552303314209, 0.8175337910652161, 0.16350674629211426, 0.5150389671325684, 0.4506591260433197, 0.6519511342048645, 0.6359383463859558, 0.3661463260650635, 0.6536861658096313, 0.35655611753463745, 0.6502849459648132, 0.3251424729824066, 0.3839075565338135, 0.767815113067627, 0.7485817074775696, 0.6375620365142822, 0.34003308415412903, 0.5924971699714661, 0.4101903736591339, 0.7369930148124695, 0.29479721188545227, 0.3732812702655792, 0.7465625405311584, 0.7152507305145264, 0.3065360486507416, 0.827700674533844, 0.15519388020038605, 0.8753893971443176, 0.2188473492860794, 0.4190629720687866, 0.6285944581031799, 0.8723989725112915, 0.43619948625564575, 0.7858728766441345, 0.2619576156139374, 0.851772129535675, 0.7765585780143738, 0.25885286927223206, 0.5052580833435059, 0.5052580833435059, 0.7207978367805481, 0.36039891839027405, 0.37548771500587463, 0.7509754300117493, 0.6525790691375732, 0.7478923797607422, 0.7265182137489319, 0.2421727478504181, 0.8633489012718201, 0.29991766810417175, 0.5998353362083435, 0.3707974851131439, 0.5561962127685547, 0.869606614112854, 0.9529914855957031, 0.3791152536869049, 0.7582305073738098, 0.8177758455276489, 0.16355517506599426, 0.24777266383171082, 0.7433179616928101, 0.6523187756538391, 0.8684179186820984, 0.506442666053772, 0.506442666053772, 0.4773380756378174, 0.5207324624061584, 0.9589489102363586, 0.779882550239563, 0.2599608600139618, 0.7473284602165222, 0.6522548198699951, 0.32612740993499756, 0.6524702906608582, 0.37330740690231323, 0.7466148138046265, 0.744774341583252, 0.2532232701778412, 0.4988346993923187, 0.4988346993923187, 0.7517276406288147, 0.18793191015720367, 0.641895055770874, 0.320947527885437, 0.7115113735198975, 0.26681676506996155, 0.49754902720451355, 0.49754902720451355, 0.9542275667190552, 0.7465722560882568, 0.6572542786598206, 0.3092961311340332, 0.553290843963623, 0.4503529965877533, 0.6421619653701782, 0.36194583773612976, 0.7477676868438721], \"Term\": [\"1\", \"1\", \"1307\", \"15\", \"15\", \"17032020\", \"18032020\", \"18032020\", \"18042020\", \"28042020\", \"29\", \"30\", \"30\", \"36\", \"coronavirus_\\u0444\\u043e\\u0442\\u043e\\u0433\\u0440\\u0430\\u0444\", \"coronavirus_\\u0444\\u043e\\u0442\\u043e\\u0433\\u0440\\u0430\\u0444\", \"httpssun196userapicom6pNmaLHqHa434XchegerBJplysRavka6cQ1XQhiy3hB46bgsjpg\", \"httpssun928userapicomc206728v206728549ef485Kv38HhuBQnQjpg\", \"httpssun935userapicomc853620v853620549226c17BCMVwCe2ivUjpg\", \"httpssun940userapicomc206728v206728549ef46aTDZ9ws5OGO8jpg\", \"\\u00ab\\u0435\\u0434\\u0438\\u043d_\\u0440\\u043e\\u0441\\u0441\\u0438\\u0438\\u00bb\", \"\\u00ab\\u0435\\u0434\\u0438\\u043d_\\u0440\\u043e\\u0441\\u0441\\u0438\\u0438\\u00bb\", \"\\u00ab\\u0444\\u043e\\u043d\\u0442\\u0430\\u043d\\u043a\\u0430\\u00bb\", \"\\u00ab\\u0444\\u043e\\u043d\\u0442\\u0430\\u043d\\u043a\\u0430\\u00bb\", \"\\u0430\\u0432\\u0442\\u043e\\u043c\\u043e\\u0431\", \"\\u0430\\u043b\\u0435\\u043a\\u0441\\u0430\\u043d\\u0434\\u0440\", \"\\u0430\\u043b\\u0435\\u043a\\u0441\\u0430\\u043d\\u0434\\u0440\", \"\\u0430\\u043b\\u0435\\u043a\\u0441\\u0430\\u043d\\u0434\\u0440_\\u0431\\u0435\\u0433\\u043b\", \"\\u0430\\u043b\\u0435\\u043a\\u0441\\u0430\\u043d\\u0434\\u0440_\\u0431\\u0435\\u0433\\u043b\", \"\\u0430\\u043b\\u0435\\u043a\\u0441\\u0430\\u043d\\u0434\\u0440_\\u0431\\u0435\\u0433\\u043b\\u043e\\u0432\", \"\\u0430\\u043b\\u0435\\u043a\\u0441\\u0430\\u043d\\u0434\\u0440_\\u0431\\u0435\\u0433\\u043b\\u043e\\u0432\", \"\\u0430\\u043f\\u0440\\u0435\\u043b\", \"\\u0430\\u043f\\u0440\\u0435\\u043b\", \"\\u0431\\u0435\\u0433\\u043b\", \"\\u0431\\u0435\\u0433\\u043b\", \"\\u0432\", \"\\u0432\", \"\\u0432_\\u043f\\u0435\\u0442\\u0435\\u0440\\u0431\\u0443\\u0440\\u0433\", \"\\u0432_\\u043f\\u0435\\u0442\\u0435\\u0440\\u0431\\u0443\\u0440\\u0433\", \"\\u0432\\u0432\\u0435\\u0441\\u0442\", \"\\u0432\\u0435\\u0440\\u043d\\u0443\\u043b\", \"\\u0432\\u0435\\u0440\\u043d\\u0443\\u043b\", \"\\u0432\\u043b\\u0430\\u0434\\u0438\\u043c\\u0438\\u0440\", \"\\u0432\\u043b\\u0430\\u0434\\u0438\\u043c\\u0438\\u0440\", \"\\u0432\\u043b\\u0430\\u0434\\u0438\\u043c\\u0438\\u0440_\\u043f\\u0443\\u0442\\u0438\\u043d\", \"\\u0432\\u043b\\u0430\\u0434\\u0438\\u043c\\u0438\\u0440_\\u043f\\u0443\\u0442\\u0438\\u043d\", \"\\u0432\\u043b\\u0430\\u0441\\u0442\", \"\\u0432\\u043b\\u0430\\u0441\\u0442\", \"\\u0432\\u043e\\u0441\\u0441\\u0442\\u0430\\u043d\\u043e\\u0432\", \"\\u0432\\u044b\\u0431\\u043e\\u0440\", \"\\u0432\\u044b\\u0431\\u043e\\u0440\", \"\\u0432\\u044b\\u0434\\u0432\\u0438\\u043d\\u0443\\u0442\", \"\\u0432\\u044f\\u0447\\u0435\\u0441\\u043b\\u0430\\u0432_\\u043c\\u0430\\u043a\\u0430\\u0440\\u043e\\u0432\", \"\\u0432\\u044f\\u0447\\u0435\\u0441\\u043b\\u0430\\u0432_\\u043c\\u0430\\u043a\\u0430\\u0440\\u043e\\u0432\", \"\\u0433\\u043b\\u0430\\u0432\", \"\\u0433\\u043b\\u0430\\u0432\", \"\\u0433\\u043b\\u0430\\u0432_\\u043a\\u043e\\u043c\\u0438\\u0442\\u0435\\u0442\", \"\\u0433\\u043b\\u0430\\u0432_\\u043a\\u043e\\u043c\\u0438\\u0442\\u0435\\u0442\", \"\\u0433\\u043e\\u0440\\u043e\\u0434\", \"\\u0433\\u043e\\u0440\\u043e\\u0434\", \"\\u0433\\u0440\\u0430\\u0436\\u0434\\u0430\", \"\\u0433\\u0440\\u0430\\u0436\\u0434\\u0430\", \"\\u0433\\u0443\\u0431\\u0435\\u0440\\u043d\\u0430\\u0442\\u043e\\u0440\", \"\\u0433\\u0443\\u0431\\u0435\\u0440\\u043d\\u0430\\u0442\\u043e\\u0440\", \"\\u0433\\u0443\\u0431\\u0435\\u0440\\u043d\\u0430\\u0442\\u043e\\u0440_\\u043f\\u0435\\u0442\\u0435\\u0440\\u0431\\u0443\\u0440\\u0433\", \"\\u0433\\u0443\\u0431\\u0435\\u0440\\u043d\\u0430\\u0442\\u043e\\u0440_\\u043f\\u0435\\u0442\\u0435\\u0440\\u0431\\u0443\\u0440\\u0433\", \"\\u0433\\u0443\\u0431\\u0435\\u0440\\u043d\\u0430\\u0442\\u043e\\u0440_\\u043f\\u0435\\u0442\\u0435\\u0440\\u0431\\u0443\\u0440\\u0433_\\u0430\\u043b\\u0435\\u043a\\u0441\\u0430\\u043d\\u0434\\u0440_\\u0431\\u0435\\u0433\\u043b\", \"\\u0433\\u0443\\u0431\\u0435\\u0440\\u043d\\u0430\\u0442\\u043e\\u0440_\\u043f\\u0435\\u0442\\u0435\\u0440\\u0431\\u0443\\u0440\\u0433_\\u0430\\u043b\\u0435\\u043a\\u0441\\u0430\\u043d\\u0434\\u0440_\\u0431\\u0435\\u0433\\u043b\", \"\\u0434\\u0435\\u043f\\u0443\\u0442\\u0430\\u0442\", \"\\u0434\\u0435\\u043f\\u0443\\u0442\\u0430\\u0442\", \"\\u0434\\u0438\\u0441\\u0446\\u0438\\u043f\\u043b\\u0438\\u043d\", \"\\u0434\\u043e\\u0445\\u043e\\u0434\", \"\\u0434\\u043e\\u0445\\u043e\\u0434\", \"\\u0437\\u0430\\u0441\\u0435\\u0434\\u0430\\u043d\", \"\\u0437\\u0430\\u0441\\u0435\\u0434\\u0430\\u043d\", \"\\u0437\\u0432\\u0435\\u043d\", \"\\u0437\\u0432\\u043e\\u043d\\u043e\\u043a\", \"\\u0437\\u0434\\u0430\\u043d\", \"\\u0437\\u0434\\u0430\\u043d\", \"\\u0438\\u0441\\u043f\\u043e\\u043b\\u044c\\u0437\", \"\\u0438\\u0441\\u0442\\u043e\\u0447\\u043d\\u0438\\u043a_\\u00ab\\u0440\\u043e\\u0442\\u043e\\u043d\\u0434\\u044b\\u00bb\", \"\\u0438\\u0441\\u0442\\u043e\\u0447\\u043d\\u0438\\u043a_\\u00ab\\u0440\\u043e\\u0442\\u043e\\u043d\\u0434\\u044b\\u00bb\", \"\\u043a\\u043e\\u043b\\u043e\\u043a\\u043e\\u043b\\u044c\\u0447\\u0438\\u043a\", \"\\u043a\\u043e\\u043c\\u0438\\u0441\\u0441\", \"\\u043a\\u043e\\u043c\\u0438\\u0441\\u0441\", \"\\u043a\\u043e\\u043c\\u0438\\u0442\\u0435\\u0442\", \"\\u043a\\u043e\\u043c\\u0438\\u0442\\u0435\\u0442\", \"\\u043a\\u043e\\u0440\\u043e\\u043d\\u0430\\u0432\\u0438\\u0440\\u0443\\u0441\", \"\\u043a\\u043e\\u0440\\u043e\\u043d\\u0430\\u0432\\u0438\\u0440\\u0443\\u0441\", \"\\u043a\\u043e\\u0442\\u043e\\u0440\", \"\\u043a\\u043e\\u0442\\u043e\\u0440\", \"\\u043a\\u0440\\u0435\\u0434\\u0438\\u0442\", \"\\u043a\\u0440\\u0435\\u0434\\u0438\\u0442\", \"\\u043a\\u0442\\u043e\\u0442\", \"\\u043c\\u0430\", \"\\u043c\\u0430\", \"\\u043c\\u0430\\u043b\", \"\\u043c\\u0430\\u043b\", \"\\u043c\\u0430\\u0441\\u043a\", \"\\u043c\\u0430\\u0441\\u043a\", \"\\u043c\\u0430\\u0441\\u043a_\\u043f\\u0435\\u0440\\u0447\\u0430\\u0442\\u043a\", \"\\u043c\\u0430\\u0441\\u043a_\\u043f\\u0435\\u0440\\u0447\\u0430\\u0442\\u043a\", \"\\u043c\\u0430\\u0442\\u0435\\u0440\\u0438\\u0430\\u043b\", \"\\u043c\\u0435\\u0434\\u0438\\u0446\\u0438\\u043d\\u0441\\u043a\", \"\\u043c\\u0435\\u0434\\u0438\\u0446\\u0438\\u043d\\u0441\\u043a\", \"\\u043c\\u0435\\u043d\\u044f\", \"\\u043c\\u0435\\u043d\\u044f\", \"\\u043c\\u0435\\u0441\\u044f\\u0446\", \"\\u043c\\u0435\\u0441\\u044f\\u0446\", \"\\u043c\\u0438\\u043b\\u043b\\u0438\\u043e\\u043d\", \"\\u043c\\u0438\\u043b\\u043b\\u0438\\u043e\\u043d\", \"\\u043c\\u0438\\u043d\\u0438\\u043c\\u0430\\u043b\\u044c\\u043d\", \"\\u043c\\u0438\\u043d\\u0438\\u043c\\u0430\\u043b\\u044c\\u043d\", \"\\u043d\\u0430\\u043b\\u043e\\u0433\", \"\\u043d\\u0430\\u043b\\u043e\\u0433\", \"\\u043d\\u043e\\u0432\", \"\\u043d\\u043e\\u0432\", \"\\u043d\\u044b\\u043d\\u0435\\u0448\\u043d\", \"\\u043e\\u0444\\u0438\\u0446\\u0438\\u0430\\u043b\\u044c\\u043d\", \"\\u043e\\u0444\\u0438\\u0446\\u0438\\u0430\\u043b\\u044c\\u043d\", \"\\u043f\\u0430\\u0440\\u043b\\u0430\\u043c\\u0435\\u043d\\u0442\", \"\\u043f\\u0430\\u0440\\u043b\\u0430\\u043c\\u0435\\u043d\\u0442\", \"\\u043f\\u0435\\u0440\\u0435\\u0434\\u0432\\u0438\\u0436\\u0435\\u043d\", \"\\u043f\\u0435\\u0442\\u0435\\u0440\\u0431\\u0443\\u0440\\u0433\", \"\\u043f\\u0435\\u0442\\u0435\\u0440\\u0431\\u0443\\u0440\\u0433\", \"\\u043f\\u0435\\u0442\\u0435\\u0440\\u0431\\u0443\\u0440\\u0433\\u0441\\u043a\", \"\\u043f\\u0435\\u0442\\u0435\\u0440\\u0431\\u0443\\u0440\\u0433\\u0441\\u043a\", \"\\u043f\\u0435\\u0442\\u0435\\u0440\\u0431\\u0443\\u0440\\u0433\\u0441\\u043a_\\u043f\\u0430\\u0440\\u043b\\u0430\\u043c\\u0435\\u043d\\u0442\", \"\\u043f\\u0435\\u0442\\u0435\\u0440\\u0431\\u0443\\u0440\\u0433\\u0441\\u043a_\\u043f\\u0430\\u0440\\u043b\\u0430\\u043c\\u0435\\u043d\\u0442\", \"\\u043f\\u043b\\u0430\\u0442\", \"\\u043f\\u043b\\u0430\\u0442\", \"\\u043f\\u043e\\u0434\\u0434\\u0435\\u0440\\u0436\\u0430\\u043d\", \"\\u043f\\u043e\\u0434\\u0440\\u043e\\u0431\\u043d\", \"\\u043f\\u043e\\u0434\\u0440\\u043e\\u0431\\u043d\", \"\\u043f\\u043e\\u0434\\u0440\\u043e\\u0431\\u043d_\\u2014\", \"\\u043f\\u043e\\u0434\\u0440\\u043e\\u0431\\u043d_\\u2014\", \"\\u043f\\u043e\\u043b\\u0438\\u0442\\u0438\\u043a\", \"\\u043f\\u043e\\u043b\\u0438\\u0442\\u0438\\u043a\", \"\\u043f\\u043e\\u043c\\u043e\\u0449\", \"\\u043f\\u043e\\u043c\\u043e\\u0449\", \"\\u043f\\u043e\\u043f\\u0440\\u0430\\u0432\\u043a\", \"\\u043f\\u043e\\u043f\\u0440\\u0430\\u0432\\u043a\", \"\\u043f\\u043e\\u043f\\u0440\\u0430\\u0432\\u043a_\\u043a\\u043e\\u043d\\u0441\\u0442\\u0438\\u0442\\u0443\\u0446\", \"\\u043f\\u043e\\u043f\\u0440\\u0430\\u0432\\u043a_\\u043a\\u043e\\u043d\\u0441\\u0442\\u0438\\u0442\\u0443\\u0446\", \"\\u043f\\u043e\\u0447\\u0435\\u0442\\u043d\", \"\\u043f\\u043e\\u0447\\u0435\\u0442\\u043d\", \"\\u043f\\u0440\\u0430\\u0432\\u0438\\u0442\\u0435\\u043b\\u044c\\u0441\\u0442\\u0432\", \"\\u043f\\u0440\\u0430\\u0432\\u0438\\u0442\\u0435\\u043b\\u044c\\u0441\\u0442\\u0432\", \"\\u043f\\u0440\\u0435\\u0434\\u043f\\u0440\\u0438\\u043d\\u0438\\u043c\\u0430\\u0442\\u0435\\u043b\", \"\\u043f\\u0440\\u0435\\u0434\\u043f\\u0440\\u0438\\u043d\\u0438\\u043c\\u0430\\u0442\\u0435\\u043b\", \"\\u043f\\u0440\\u043e\\u043f\\u0443\\u0441\\u043a\", \"\\u043f\\u0440\\u043e\\u043f\\u0443\\u0441\\u043a\", \"\\u043f\\u0440\\u043e\\u043f\\u0443\\u0441\\u043a\\u043d\", \"\\u043f\\u0440\\u043e\\u0445\\u043e\\u0434\", \"\\u043f\\u0440\\u043e\\u0445\\u043e\\u0434\", \"\\u043f\\u0440\\u043e\\u0446\\u0435\\u043d\\u0442\", \"\\u043f\\u0440\\u043e\\u0446\\u0435\\u043d\\u0442\", \"\\u043f\\u0443\\u0442\\u0438\\u043d\", \"\\u043f\\u0443\\u0442\\u0438\\u043d\", \"\\u043f\\u044f\\u0442\", \"\\u043f\\u044f\\u0442\", \"\\u0440\\u0430\\u0437\\u043e\\u0441\\u043b\\u0430\", \"\\u0440\\u0430\\u0441\\u0441\\u043f\\u0440\\u0430\\u0448\\u0438\\u0432\\u0430\", \"\\u0440\\u0435\\u0436\", \"\\u0440\\u0435\\u0436\", \"\\u0440\\u0435\\u0437\\u043d\\u0438\\u043a\", \"\\u0441\\u0430\\u043b\\u044e\\u0442\", \"\\u0441\\u0430\\u043b\\u044e\\u0442\", \"\\u0441\\u0430\\u043c\", \"\\u0441\\u0430\\u043c\", \"\\u0441\\u0435\\u043a\\u0440\\u0435\\u0442\\u043d\", \"\\u0441\\u0435\\u0440\\u0433\\u0435\", \"\\u0441\\u043b\\u0443\\u0445\", \"\\u0441\\u043b\\u0443\\u0445\", \"\\u0441\\u043e\\u0431\\u0435\\u0441\\u0435\\u0434\\u043d\\u0438\\u043a\", \"\\u0441\\u043e\\u0431\\u0435\\u0441\\u0435\\u0434\\u043d\\u0438\\u043a\", \"\\u0441\\u043e\\u0431\\u043b\\u044e\\u0434\\u0430\", \"\\u0441\\u043e\\u0431\\u043b\\u044e\\u0434\\u0430\", \"\\u0441\\u043e\\u0432\\u0435\\u0449\\u0430\\u043d\", \"\\u0441\\u043e\\u0433\\u043b\\u0430\\u0441\\u043d\", \"\\u0441\\u043e\\u0446\\u0438\\u0430\\u043b\\u044c\\u043d\", \"\\u0441\\u043e\\u0446\\u0438\\u0430\\u043b\\u044c\\u043d\", \"\\u0441\\u0441\\u044b\\u043b\\u043a\", \"\\u0441\\u0441\\u044b\\u043b\\u043a\", \"\\u0441\\u0442\\u0430\\u0442\", \"\\u0442\\u0435\\u0437\\u0438\\u0441\", \"\\u0442\\u0435\\u0437\\u0438\\u0441\", \"\\u0442\\u0438\\u0448\\u0438\\u043d\", \"\\u0443\\u0442\\u0440\", \"\\u0443\\u0442\\u0440\", \"\\u0443\\u0447\\u0430\\u0441\\u0442\", \"\\u0444\\u0435\\u0439\\u0435\\u0440\\u0432\\u0435\\u0440\\u043a\", \"\\u0444\\u0435\\u0439\\u0435\\u0440\\u0432\\u0435\\u0440\\u043a\", \"\\u0444\\u043e\\u0442\\u043e\\u0433\\u0440\\u0430\\u0444\", \"\\u0444\\u043e\\u0442\\u043e\\u0433\\u0440\\u0430\\u0444\", \"\\u0444\\u0443\\u0442\\u0431\\u043e\\u043b\\u043a\", \"\\u0444\\u0443\\u0442\\u0431\\u043e\\u043b\\u043a\", \"\\u0447\\u0430\\u0441\\u0442\", \"\\u0447\\u0430\\u0441\\u0442\", \"\\u0447\\u0435\\u043b\\u043e\\u0432\\u0435\\u043a\", \"\\u0447\\u0435\\u043b\\u043e\\u0432\\u0435\\u043a\", \"\\u0447\\u0438\\u0442\\u0430_\\u0441\\u0441\\u044b\\u043b\\u043a\", \"\\u0447\\u0438\\u0442\\u0430_\\u0441\\u0441\\u044b\\u043b\\u043a\", \"\\u0448\\u0435\\u0441\\u0442\", \"\\u0448\\u0435\\u0441\\u0442\", \"\\u0448\\u043d\\u0443\\u0440\\u043e\\u0432\", \"\\u044d\\u0440\\u0433\\u0430\\u0448\\u0435\\u0432\", \"\\u044d\\u0442\", \"\\u044d\\u0442\", \"\\u2014\", \"\\u2014\", \"\\u2800\", \"\\u2800\", \"\\ud83d\\udd14\\u0434\\u043b\\u044f\"]}, \"R\": 30, \"lambda.step\": 0.01, \"plot.opts\": {\"xlab\": \"PC1\", \"ylab\": \"PC2\"}, \"topic.order\": [1, 2]};\n",
       "\n",
       "function LDAvis_load_lib(url, callback){\n",
       "  var s = document.createElement('script');\n",
       "  s.src = url;\n",
       "  s.async = true;\n",
       "  s.onreadystatechange = s.onload = callback;\n",
       "  s.onerror = function(){console.warn(\"failed to load library \" + url);};\n",
       "  document.getElementsByTagName(\"head\")[0].appendChild(s);\n",
       "}\n",
       "\n",
       "if(typeof(LDAvis) !== \"undefined\"){\n",
       "   // already loaded: just create the visualization\n",
       "   !function(LDAvis){\n",
       "       new LDAvis(\"#\" + \"ldavis_el810830088571852241020633271\", ldavis_el810830088571852241020633271_data);\n",
       "   }(LDAvis);\n",
       "}else if(typeof define === \"function\" && define.amd){\n",
       "   // require.js is available: use it to load d3/LDAvis\n",
       "   require.config({paths: {d3: \"https://cdnjs.cloudflare.com/ajax/libs/d3/3.5.5/d3.min\"}});\n",
       "   require([\"d3\"], function(d3){\n",
       "      window.d3 = d3;\n",
       "      LDAvis_load_lib(\"https://cdn.rawgit.com/bmabey/pyLDAvis/files/ldavis.v1.0.0.js\", function(){\n",
       "        new LDAvis(\"#\" + \"ldavis_el810830088571852241020633271\", ldavis_el810830088571852241020633271_data);\n",
       "      });\n",
       "    });\n",
       "}else{\n",
       "    // require.js not available: dynamically load d3 & LDAvis\n",
       "    LDAvis_load_lib(\"https://cdnjs.cloudflare.com/ajax/libs/d3/3.5.5/d3.min.js\", function(){\n",
       "         LDAvis_load_lib(\"https://cdn.rawgit.com/bmabey/pyLDAvis/files/ldavis.v1.0.0.js\", function(){\n",
       "                 new LDAvis(\"#\" + \"ldavis_el810830088571852241020633271\", ldavis_el810830088571852241020633271_data);\n",
       "            })\n",
       "         });\n",
       "}\n",
       "</script>"
      ],
      "text/plain": [
       "PreparedData(topic_coordinates=              x    y  topics  cluster       Freq\n",
       "topic                                           \n",
       "0      0.011964  0.0       1        1  59.014996\n",
       "1     -0.011964  0.0       2        1  40.985008, topic_info=                     Term       Freq      Total Category  logprob  loglift\n",
       "233        александр_бегл  47.000000  47.000000  Default  30.0000  30.0000\n",
       "98              александр  34.000000  34.000000  Default  29.0000  29.0000\n",
       "54                      —  77.000000  77.000000  Default  28.0000  28.0000\n",
       "112  губернатор_петербург  30.000000  30.000000  Default  27.0000  27.0000\n",
       "238          глав_комитет  12.000000  12.000000  Default  26.0000  26.0000\n",
       "..                    ...        ...        ...      ...      ...      ...\n",
       "503      вячеслав_макаров   7.125812  16.467579   Topic2  -5.8701   0.0543\n",
       "48               фотограф  17.438667  67.134430   Topic2  -4.9752  -0.4560\n",
       "8                       в   9.439383  27.172781   Topic2  -5.5890  -0.1654\n",
       "53                     эт   8.430632  25.865179   Topic2  -5.7020  -0.2291\n",
       "33                подробн   8.083850  23.527122   Topic2  -5.7440  -0.1763\n",
       "\n",
       "[180 rows x 6 columns], token_table=      Topic      Freq  Term\n",
       "term                       \n",
       "1         1  0.747961     1\n",
       "1         2  0.186990     1\n",
       "1989      2  0.748073  1307\n",
       "88        1  0.326604    15\n",
       "88        2  0.653208    15\n",
       "...     ...       ...   ...\n",
       "54        1  0.553291     —\n",
       "54        2  0.450353     —\n",
       "55        1  0.642162     ⠀\n",
       "55        2  0.361946     ⠀\n",
       "2006      2  0.747768  🔔для\n",
       "\n",
       "[214 rows x 3 columns], R=30, lambda_step=0.01, plot_opts={'xlab': 'PC1', 'ylab': 'PC2'}, topic_order=[1, 2])"
      ]
     },
     "execution_count": 10,
     "metadata": {},
     "output_type": "execute_result"
    }
   ],
   "source": [
    "data"
   ]
  },
  {
   "cell_type": "code",
   "execution_count": 12,
   "metadata": {
    "scrolled": true
   },
   "outputs": [],
   "source": [
    "from gensim.models.coherencemodel import CoherenceModel \n",
    "def compute_coherence_values(dictionary, corpus, texts, limit, start=2, step=3):\n",
    "    coherence_values = []\n",
    "    model_list = []\n",
    "    for num_topics in range(start, limit, step):\n",
    "        model=LdaMulticore(corpus=corpus,id2word=dictionary, num_topics=num_topics)\n",
    "        model_list.append(model)\n",
    "        coherencemodel = CoherenceModel(model=model, texts=texts, dictionary=dictionary, coherence='c_v')\n",
    "        coherence_values.append(coherencemodel.get_coherence())\n",
    "    return model_list, coherence_values\n",
    "\t\n",
    "# Вызовем функцию и посчитаем\n",
    "model_list, coherence_values = compute_coherence_values(dictionary=dictionary, corpus=corpus, texts=text_clean, start=2, limit=40, step=2)"
   ]
  },
  {
   "cell_type": "code",
   "execution_count": 24,
   "metadata": {
    "scrolled": true
   },
   "outputs": [
    {
     "data": {
      "image/png": "[encoded data removed]",
      "text/plain": [
       "<Figure size 432x288 with 1 Axes>"
      ]
     },
     "metadata": {
      "needs_background": "light"
     },
     "output_type": "display_data"
    }
   ],
   "source": [
    "import matplotlib.pyplot as plt\n",
    "limit=40; start=2; step=2;\n",
    "x = range(start, limit, step)\n",
    "plt.plot(x, coherence_values)\n",
    "plt.xlabel(\"Количество тем\")\n",
    "plt.ylabel(\"Согласованность\")\n",
    "plt.legend((\"coherence_values\"), loc='best')\n",
    "plt.show()"
   ]
  },
  {
   "cell_type": "code",
   "execution_count": 25,
   "metadata": {
    "scrolled": true
   },
   "outputs": [],
   "source": [
    "model_list[16].save('C:/Users/Maria/Desktop/model/best_model.lda')\n",
    "# Сохраняем словарь\n",
    "from gensim import corpora\n",
    "corpora.Dictionary.save(dictionary, \"C:/Users/Maria/Desktop/model/dictionary.dict\")\n",
    "# Сохраняем корпус\n",
    "corpora.BleiCorpus.save_corpus(fname=\"C:/Users/Maria/Desktop/model/corpus.lda-c\",corpus= corpus)\n",
    "# Сохраняем выражения \n",
    "bigram.save('C:/Users/Maria/Desktop/model/bigram.phs')\n",
    "trigram.save('C:/Users/Maria/Desktop/model/trigram.phs')"
   ]
  },
  {
   "cell_type": "code",
   "execution_count": 26,
   "metadata": {
    "scrolled": true
   },
   "outputs": [],
   "source": [
    "class LdaPredictor():\n",
    "    \n",
    "    def __init__(self, lda_path, dict_path, bigram_path, trigram_path):\n",
    "        \"\"\"\n",
    "        lda_path - путь к lda модели\n",
    "        dict_path - путь к словарю \n",
    "        bigram_path - путь к биграммам\n",
    "        trigram_path - путь к триграммам\n",
    "        \n",
    "        param: lda_path str\n",
    "        param: dict_path str\n",
    "        param: bigram_path str\n",
    "        param: trigram_path str\n",
    "        \"\"\"\n",
    "        self.dictionary = corpora.Dictionary.load(dict_path)\n",
    "        self.lda = LdaMulticore.load(lda_path)\n",
    "        self.bigram_path = bigram_path\n",
    "        self.trigram_path = trigram_path\n",
    "        \n",
    "    def clean(self, text):\n",
    "        text = regex.sub('', text) \n",
    "        text = [token for token in text.split() if token not in russian_stopwords]\n",
    "        text = [stemmer.stem(token) for token in text]\n",
    "        text = [token for token in text if token]\n",
    "        return ' '.join(text)\n",
    "    \n",
    "    def bigram(self, text):\n",
    "        bigram = Phrases.load(self.bigram_path)\n",
    "        trigram = Phrases.load(self.trigram_path)\n",
    "        text_clean = text\n",
    "        for idx in range(len(text_clean)):\n",
    "            for token in bigram[text_clean[idx]]:\n",
    "                if '_' in token:\n",
    "                    text_clean[idx].append(token)\n",
    "            for token in trigram[text_clean[idx]]:\n",
    "                if '_' in token:\n",
    "                    text_clean[idx].append(token)\n",
    "        return text_clean\n",
    "    \n",
    "    def predict(self, text):\n",
    "        clean_text = self.clean(text).split()\n",
    "        bigram = self.bigram([clean_text])\n",
    "        new_review_bow = self.dictionary.doc2bow(bigram[0])\n",
    "        new_review_lda = self.lda[new_review_bow]\n",
    "        return sorted(new_review_lda, reverse=True, key=operator.itemgetter(1))"
   ]
  },
  {
   "cell_type": "code",
   "execution_count": 32,
   "metadata": {
    "scrolled": true
   },
   "outputs": [
    {
     "name": "stdout",
     "output_type": "stream",
     "text": [
      "[(31, 0.34318992), (10, 0.3429863)]\n"
     ]
    }
   ],
   "source": [
    "import operator\n",
    "lda_path = \"C:/Users/Maria/Desktop/model/best_model.lda\"\n",
    "dict_path = \"C:/Users/Maria/Desktop/model/dictionary.dict\"\n",
    "bigram_path = \"C:/Users/Maria/Desktop/model/bigram.phs\"\n",
    "trigram_path = \"C:/Users/Maria/Desktop/model/trigram.phs\"\n",
    "lda = LdaPredictor(lda_path, dict_path,  bigram_path, trigram_path)\n",
    "text = \"Текст с первой кларификацией\"\n",
    "predict = lda.predict(text)\n",
    "print(predict)\n",
    "# Предсказанные классы\n",
    "# [(16, 0.5016654), \n",
    "# (31, 0.5016663)]"
   ]
  },
  {
   "cell_type": "code",
   "execution_count": null,
   "metadata": {
    "scrolled": true
   },
   "outputs": [],
   "source": []
  }
 ],
 "metadata": {
  "kernelspec": {
   "display_name": "Python 3",
   "language": "python",
   "name": "python3"
  },
  "language_info": {
   "codemirror_mode": {
    "name": "ipython",
    "version": 3
   },
   "file_extension": ".py",
   "mimetype": "text/x-python",
   "name": "python",
   "nbconvert_exporter": "python",
   "pygments_lexer": "ipython3",
   "version": "3.7.4"
  }
 },
 "nbformat": 4,
 "nbformat_minor": 2
}
